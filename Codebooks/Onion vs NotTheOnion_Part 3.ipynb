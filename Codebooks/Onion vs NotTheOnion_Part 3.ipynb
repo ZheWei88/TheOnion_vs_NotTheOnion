{
 "cells": [
  {
   "cell_type": "markdown",
   "id": "d65b49e2",
   "metadata": {},
   "source": [
    "# Part 3 - Preprocessing, Modelling and Conclusions & Recommendations\n",
    "\n",
    "This notebook will cover:\n",
    "\n",
    "- Selection of the X and y features\n",
    "- Modelling using various model types:\n",
    "    - K-Nearest Neighbours\n",
    "    - Random Forest\n",
    "    - Multinomial Naive Bayes\n",
    "    - Logistic Regression\n",
    "    - Support Vector Machine\n",
    "- Evaluation of chosen model\n",
    "- Conclusion and Recommendations"
   ]
  },
  {
   "cell_type": "code",
   "execution_count": 3,
   "id": "1e29c7af",
   "metadata": {},
   "outputs": [],
   "source": [
    "# import the necessary libraries\n",
    "\n",
    "import pandas as pd\n",
    "import seaborn as sns\n",
    "import matplotlib.pyplot as plt\n",
    "from wordcloud import WordCloud\n",
    "from sklearn.feature_extraction.text import CountVectorizer, TfidfVectorizer\n",
    "from sklearn.model_selection import train_test_split, GridSearchCV\n",
    "from sklearn.pipeline import Pipeline\n",
    "from sklearn.naive_bayes import MultinomialNB\n",
    "from sklearn.metrics import confusion_matrix, plot_confusion_matrix, accuracy_score, plot_roc_curve, roc_auc_score, recall_score, precision_score, f1_score\n",
    "import numpy as np\n",
    "from sklearn.neighbors import KNeighborsClassifier\n",
    "from nltk.stem import WordNetLemmatizer\n",
    "from nltk.tokenize import sent_tokenize, word_tokenize, RegexpTokenizer\n",
    "from sklearn.linear_model import LogisticRegression\n",
    "from sklearn.ensemble import RandomForestRegressor, RandomForestClassifier\n",
    "from sklearn import svm\n",
    "from tabulate import tabulate"
   ]
  },
  {
   "cell_type": "code",
   "execution_count": 4,
   "id": "96e47f07",
   "metadata": {},
   "outputs": [
    {
     "name": "stdout",
     "output_type": "stream",
     "text": [
      "(10000, 8)\n"
     ]
    },
    {
     "data": {
      "text/html": [
       "<div>\n",
       "<style scoped>\n",
       "    .dataframe tbody tr th:only-of-type {\n",
       "        vertical-align: middle;\n",
       "    }\n",
       "\n",
       "    .dataframe tbody tr th {\n",
       "        vertical-align: top;\n",
       "    }\n",
       "\n",
       "    .dataframe thead th {\n",
       "        text-align: right;\n",
       "    }\n",
       "</style>\n",
       "<table border=\"1\" class=\"dataframe\">\n",
       "  <thead>\n",
       "    <tr style=\"text-align: right;\">\n",
       "      <th></th>\n",
       "      <th>subreddit</th>\n",
       "      <th>title</th>\n",
       "      <th>created_utc</th>\n",
       "      <th>title_length</th>\n",
       "      <th>title_word_count</th>\n",
       "      <th>new_text</th>\n",
       "      <th>newtext_length</th>\n",
       "      <th>newtext_word_count</th>\n",
       "    </tr>\n",
       "  </thead>\n",
       "  <tbody>\n",
       "    <tr>\n",
       "      <th>0</th>\n",
       "      <td>nottheonion</td>\n",
       "      <td>Woman self-isolates in plane toilet for five h...</td>\n",
       "      <td>1640966006</td>\n",
       "      <td>101</td>\n",
       "      <td>14</td>\n",
       "      <td>woman self isolates in plane toilet for five h...</td>\n",
       "      <td>98</td>\n",
       "      <td>16</td>\n",
       "    </tr>\n",
       "    <tr>\n",
       "      <th>1</th>\n",
       "      <td>TheOnion</td>\n",
       "      <td>Gwyneth Paltrow Touts New Diamond-Encrusted Tr...</td>\n",
       "      <td>1640955671</td>\n",
       "      <td>89</td>\n",
       "      <td>11</td>\n",
       "      <td>gwyneth paltrow tout new diamond encrusted tre...</td>\n",
       "      <td>87</td>\n",
       "      <td>12</td>\n",
       "    </tr>\n",
       "    <tr>\n",
       "      <th>2</th>\n",
       "      <td>TheOnion</td>\n",
       "      <td>Artist Crafting Music Box Hopes It Delights At...</td>\n",
       "      <td>1640955669</td>\n",
       "      <td>81</td>\n",
       "      <td>13</td>\n",
       "      <td>artist crafting music box hope it delight at l...</td>\n",
       "      <td>79</td>\n",
       "      <td>14</td>\n",
       "    </tr>\n",
       "    <tr>\n",
       "      <th>3</th>\n",
       "      <td>TheOnion</td>\n",
       "      <td>Homeowner Trying To Smoke Out Snakes Accidenta...</td>\n",
       "      <td>1640955668</td>\n",
       "      <td>66</td>\n",
       "      <td>10</td>\n",
       "      <td>homeowner trying to smoke out snake accidental...</td>\n",
       "      <td>64</td>\n",
       "      <td>10</td>\n",
       "    </tr>\n",
       "    <tr>\n",
       "      <th>4</th>\n",
       "      <td>TheOnion</td>\n",
       "      <td>Dictionary.Com Names ‘Allyship’ 2021 Word Of T...</td>\n",
       "      <td>1640955667</td>\n",
       "      <td>53</td>\n",
       "      <td>8</td>\n",
       "      <td>dictionary com name allyship 2021 word of the ...</td>\n",
       "      <td>50</td>\n",
       "      <td>9</td>\n",
       "    </tr>\n",
       "  </tbody>\n",
       "</table>\n",
       "</div>"
      ],
      "text/plain": [
       "     subreddit                                              title  \\\n",
       "0  nottheonion  Woman self-isolates in plane toilet for five h...   \n",
       "1     TheOnion  Gwyneth Paltrow Touts New Diamond-Encrusted Tr...   \n",
       "2     TheOnion  Artist Crafting Music Box Hopes It Delights At...   \n",
       "3     TheOnion  Homeowner Trying To Smoke Out Snakes Accidenta...   \n",
       "4     TheOnion  Dictionary.Com Names ‘Allyship’ 2021 Word Of T...   \n",
       "\n",
       "   created_utc  title_length  title_word_count  \\\n",
       "0   1640966006           101                14   \n",
       "1   1640955671            89                11   \n",
       "2   1640955669            81                13   \n",
       "3   1640955668            66                10   \n",
       "4   1640955667            53                 8   \n",
       "\n",
       "                                            new_text  newtext_length  \\\n",
       "0  woman self isolates in plane toilet for five h...              98   \n",
       "1  gwyneth paltrow tout new diamond encrusted tre...              87   \n",
       "2  artist crafting music box hope it delight at l...              79   \n",
       "3  homeowner trying to smoke out snake accidental...              64   \n",
       "4  dictionary com name allyship 2021 word of the ...              50   \n",
       "\n",
       "   newtext_word_count  \n",
       "0                  16  \n",
       "1                  12  \n",
       "2                  14  \n",
       "3                  10  \n",
       "4                   9  "
      ]
     },
     "execution_count": 4,
     "metadata": {},
     "output_type": "execute_result"
    }
   ],
   "source": [
    "# import the dataset\n",
    "onion_or_not = pd.read_csv('../Datasets/onion_or_not.csv')\n",
    "print(onion_or_not.shape)\n",
    "onion_or_not.head()"
   ]
  },
  {
   "cell_type": "markdown",
   "id": "f5cb58aa",
   "metadata": {},
   "source": [
    "## Preprocessing"
   ]
  },
  {
   "cell_type": "markdown",
   "id": "a0af1e64",
   "metadata": {},
   "source": [
    "### Generating Binary Classifier Column\n",
    "\n",
    "Since we want to create a model that will effectively predict which news is fake, we will use TheOnion as positive, since it is satire and not real news.\n",
    "\n",
    "\n",
    "**1: TheOnion<br>\n",
    "0: nottheonion**"
   ]
  },
  {
   "cell_type": "code",
   "execution_count": 5,
   "id": "0a113f76",
   "metadata": {},
   "outputs": [
    {
     "data": {
      "text/html": [
       "<div>\n",
       "<style scoped>\n",
       "    .dataframe tbody tr th:only-of-type {\n",
       "        vertical-align: middle;\n",
       "    }\n",
       "\n",
       "    .dataframe tbody tr th {\n",
       "        vertical-align: top;\n",
       "    }\n",
       "\n",
       "    .dataframe thead th {\n",
       "        text-align: right;\n",
       "    }\n",
       "</style>\n",
       "<table border=\"1\" class=\"dataframe\">\n",
       "  <thead>\n",
       "    <tr style=\"text-align: right;\">\n",
       "      <th></th>\n",
       "      <th>subreddit</th>\n",
       "      <th>title</th>\n",
       "      <th>created_utc</th>\n",
       "      <th>title_length</th>\n",
       "      <th>title_word_count</th>\n",
       "      <th>new_text</th>\n",
       "      <th>newtext_length</th>\n",
       "      <th>newtext_word_count</th>\n",
       "      <th>onion</th>\n",
       "    </tr>\n",
       "  </thead>\n",
       "  <tbody>\n",
       "    <tr>\n",
       "      <th>0</th>\n",
       "      <td>nottheonion</td>\n",
       "      <td>Woman self-isolates in plane toilet for five h...</td>\n",
       "      <td>1640966006</td>\n",
       "      <td>101</td>\n",
       "      <td>14</td>\n",
       "      <td>woman self isolates in plane toilet for five h...</td>\n",
       "      <td>98</td>\n",
       "      <td>16</td>\n",
       "      <td>0</td>\n",
       "    </tr>\n",
       "    <tr>\n",
       "      <th>1</th>\n",
       "      <td>TheOnion</td>\n",
       "      <td>Gwyneth Paltrow Touts New Diamond-Encrusted Tr...</td>\n",
       "      <td>1640955671</td>\n",
       "      <td>89</td>\n",
       "      <td>11</td>\n",
       "      <td>gwyneth paltrow tout new diamond encrusted tre...</td>\n",
       "      <td>87</td>\n",
       "      <td>12</td>\n",
       "      <td>1</td>\n",
       "    </tr>\n",
       "    <tr>\n",
       "      <th>2</th>\n",
       "      <td>TheOnion</td>\n",
       "      <td>Artist Crafting Music Box Hopes It Delights At...</td>\n",
       "      <td>1640955669</td>\n",
       "      <td>81</td>\n",
       "      <td>13</td>\n",
       "      <td>artist crafting music box hope it delight at l...</td>\n",
       "      <td>79</td>\n",
       "      <td>14</td>\n",
       "      <td>1</td>\n",
       "    </tr>\n",
       "    <tr>\n",
       "      <th>3</th>\n",
       "      <td>TheOnion</td>\n",
       "      <td>Homeowner Trying To Smoke Out Snakes Accidenta...</td>\n",
       "      <td>1640955668</td>\n",
       "      <td>66</td>\n",
       "      <td>10</td>\n",
       "      <td>homeowner trying to smoke out snake accidental...</td>\n",
       "      <td>64</td>\n",
       "      <td>10</td>\n",
       "      <td>1</td>\n",
       "    </tr>\n",
       "    <tr>\n",
       "      <th>4</th>\n",
       "      <td>TheOnion</td>\n",
       "      <td>Dictionary.Com Names ‘Allyship’ 2021 Word Of T...</td>\n",
       "      <td>1640955667</td>\n",
       "      <td>53</td>\n",
       "      <td>8</td>\n",
       "      <td>dictionary com name allyship 2021 word of the ...</td>\n",
       "      <td>50</td>\n",
       "      <td>9</td>\n",
       "      <td>1</td>\n",
       "    </tr>\n",
       "  </tbody>\n",
       "</table>\n",
       "</div>"
      ],
      "text/plain": [
       "     subreddit                                              title  \\\n",
       "0  nottheonion  Woman self-isolates in plane toilet for five h...   \n",
       "1     TheOnion  Gwyneth Paltrow Touts New Diamond-Encrusted Tr...   \n",
       "2     TheOnion  Artist Crafting Music Box Hopes It Delights At...   \n",
       "3     TheOnion  Homeowner Trying To Smoke Out Snakes Accidenta...   \n",
       "4     TheOnion  Dictionary.Com Names ‘Allyship’ 2021 Word Of T...   \n",
       "\n",
       "   created_utc  title_length  title_word_count  \\\n",
       "0   1640966006           101                14   \n",
       "1   1640955671            89                11   \n",
       "2   1640955669            81                13   \n",
       "3   1640955668            66                10   \n",
       "4   1640955667            53                 8   \n",
       "\n",
       "                                            new_text  newtext_length  \\\n",
       "0  woman self isolates in plane toilet for five h...              98   \n",
       "1  gwyneth paltrow tout new diamond encrusted tre...              87   \n",
       "2  artist crafting music box hope it delight at l...              79   \n",
       "3  homeowner trying to smoke out snake accidental...              64   \n",
       "4  dictionary com name allyship 2021 word of the ...              50   \n",
       "\n",
       "   newtext_word_count  onion  \n",
       "0                  16      0  \n",
       "1                  12      1  \n",
       "2                  14      1  \n",
       "3                  10      1  \n",
       "4                   9      1  "
      ]
     },
     "execution_count": 5,
     "metadata": {},
     "output_type": "execute_result"
    }
   ],
   "source": [
    "# create column for 1s and 0s for subreddit\n",
    "# TheOnion : 1, notthe onion : 0\n",
    "onion_or_not['onion'] = [1 if value == 'TheOnion' else 0 for value in onion_or_not.subreddit.values]\n",
    "onion_or_not.head()"
   ]
  },
  {
   "cell_type": "code",
   "execution_count": 6,
   "id": "d4c7c4d9",
   "metadata": {},
   "outputs": [
    {
     "name": "stdout",
     "output_type": "stream",
     "text": [
      "0    5000\n",
      "1    5000\n",
      "Name: onion, dtype: int64\n"
     ]
    },
    {
     "data": {
      "text/plain": [
       "0    0.5\n",
       "1    0.5\n",
       "Name: onion, dtype: float64"
      ]
     },
     "execution_count": 6,
     "metadata": {},
     "output_type": "execute_result"
    }
   ],
   "source": [
    "# as stated in the previous notebook, the classes are perfectly balanced\n",
    "print(onion_or_not.onion.value_counts(normalize=False))\n",
    "onion_or_not.onion.value_counts(normalize=True)"
   ]
  },
  {
   "cell_type": "markdown",
   "id": "94502158",
   "metadata": {},
   "source": [
    "### The X and y features"
   ]
  },
  {
   "cell_type": "markdown",
   "id": "f5e834cc",
   "metadata": {},
   "source": [
    "We will use the `new_text` to predict whether a title is from the onion or not. The `new_text` is the tokenized and lemmatized version of the original `title` text.<br>\n",
    "Hence, our X will be:"
   ]
  },
  {
   "cell_type": "code",
   "execution_count": 7,
   "id": "93120ad6",
   "metadata": {},
   "outputs": [
    {
     "data": {
      "text/plain": [
       "0    woman self isolates in plane toilet for five h...\n",
       "1    gwyneth paltrow tout new diamond encrusted tre...\n",
       "2    artist crafting music box hope it delight at l...\n",
       "3    homeowner trying to smoke out snake accidental...\n",
       "4    dictionary com name allyship 2021 word of the ...\n",
       "Name: new_text, dtype: object"
      ]
     },
     "execution_count": 7,
     "metadata": {},
     "output_type": "execute_result"
    }
   ],
   "source": [
    "X = onion_or_not.new_text\n",
    "X.head()"
   ]
  },
  {
   "cell_type": "markdown",
   "id": "f6bb5240",
   "metadata": {},
   "source": [
    "Our y will simply be the `onion` column of 1s and 0s:"
   ]
  },
  {
   "cell_type": "code",
   "execution_count": 8,
   "id": "5f5454ca",
   "metadata": {},
   "outputs": [
    {
     "data": {
      "text/plain": [
       "0    0\n",
       "1    1\n",
       "2    1\n",
       "3    1\n",
       "4    1\n",
       "Name: onion, dtype: int64"
      ]
     },
     "execution_count": 8,
     "metadata": {},
     "output_type": "execute_result"
    }
   ],
   "source": [
    "y = onion_or_not.onion\n",
    "y.head()"
   ]
  },
  {
   "cell_type": "markdown",
   "id": "6718ced5",
   "metadata": {},
   "source": [
    "### Train, Test and Split"
   ]
  },
  {
   "cell_type": "code",
   "execution_count": 9,
   "id": "f8c11eda",
   "metadata": {},
   "outputs": [],
   "source": [
    "# train, test and split\n",
    "X_train, X_test, y_train, y_test = train_test_split(X,\n",
    "                                                    y,\n",
    "                                                    test_size=0.25,\n",
    "                                                    random_state=42,\n",
    "                                                    stratify=y)"
   ]
  },
  {
   "cell_type": "markdown",
   "id": "d0834f10",
   "metadata": {},
   "source": [
    "## Important metrics for this dataset"
   ]
  },
  {
   "cell_type": "markdown",
   "id": "71bf9c34",
   "metadata": {},
   "source": [
    "### Which is worse, FALSE POSITIVES or FALSE NEGATIVES?"
   ]
  },
  {
   "cell_type": "markdown",
   "id": "0f0b96b2",
   "metadata": {},
   "source": [
    "**False Positive - News that is real, but wrongly classified as fake.<br>\n",
    "False Negative - News that is fake, but wrongly classified as real.**<br>\n",
    "\n",
    "False positives are important, as the implications of classifying real news as fake can be serious. For example, real news about vaccines being classified as fake can have a serious impact on the healthcare system and vaccination efforts of a nation.\n",
    "\n",
    "That said, false negatives hold equal importance as well. For example, classifying a fake news about a terrorist attack as real will cause undue panic and anxiety, which will cause unecessary stress the security and defence personnel.\n",
    "\n",
    "The metrics we will use to evaluate the model are:\n",
    "\n",
    "- Accuracy = (TP + TN)/(TP + TN + FP + FN)\n",
    "- Recall = TP/(TP + FN)\n",
    "- Precision = TP/(TP + FP)\n",
    "- **f1 Score**\n",
    "\n",
    "Where TP, TN, FP and FN are **True Positives, True Negatives, False Positives and False Negatives** respectively.\n",
    "\n",
    "Since avoiding both false positives and false negatives are equally important for our problem, we need a trade-off between precision and recall. We will thus **use the f1 score as the main metric**. The f1 score is defined as the harmonic mean of precision and recall.<sup>1</sup><br>\n",
    "$$\n",
    "F1 = 2*\\frac{(\\text{Precision}*\\text{Recall})} {(\\text{Precision} + \\text{Recall})}\n",
    "$$"
   ]
  },
  {
   "cell_type": "markdown",
   "id": "53407dc8",
   "metadata": {},
   "source": [
    "## Modelling"
   ]
  },
  {
   "cell_type": "markdown",
   "id": "5728081d",
   "metadata": {},
   "source": [
    "We will model the data using the following models:\n",
    "- K-Nearest Neighbours\n",
    "- Random Forest\n",
    "- Multinomial Naive Bayes\n",
    "- Support Vector Machine\n",
    "- Logistic Regression\n",
    "\n",
    "The model with the best metric will be chosen as our primary model, on which we will perform further study and draw reccomendations and conclusions from."
   ]
  },
  {
   "cell_type": "markdown",
   "id": "a74be4fc",
   "metadata": {},
   "source": [
    "### Baseline Model\n",
    "It is tempting to just use accuracy score of 0.5 as the baseline. This however, would be pointless as it is overly basic, and the dataset is deliberately balanced in the first place. We will thus use **k-Nearest Neighbours as the baseline model**:\n",
    "- It is a proper machine-learning model, yet basic enough for a baseline evaluation.\n",
    "- It will give us a feel of the dataset, such as whether it overfits, or if there are more false positives than false negatives etc."
   ]
  },
  {
   "cell_type": "code",
   "execution_count": 10,
   "id": "db511242",
   "metadata": {},
   "outputs": [],
   "source": [
    "# create KNN pipeline\n",
    "# no default CountVectorizer and KNN will be used as it is a baseline\n",
    "pipe_knn_base = Pipeline([\n",
    "    ('cvec', CountVectorizer()), # instantiate CountVectorizer\n",
    "    ('knn', KNeighborsClassifier()) # Instantiate KNN\n",
    "])"
   ]
  },
  {
   "cell_type": "code",
   "execution_count": 11,
   "id": "e50cb608",
   "metadata": {},
   "outputs": [
    {
     "data": {
      "text/plain": [
       "Pipeline(steps=[('cvec', CountVectorizer()), ('knn', KNeighborsClassifier())])"
      ]
     },
     "execution_count": 11,
     "metadata": {},
     "output_type": "execute_result"
    }
   ],
   "source": [
    "# fit the train data\n",
    "pipe_knn_base.fit(X_train, y_train)"
   ]
  },
  {
   "cell_type": "code",
   "execution_count": 12,
   "id": "7444e372",
   "metadata": {},
   "outputs": [
    {
     "name": "stdout",
     "output_type": "stream",
     "text": [
      "Baseline train accuracy score: 0.7193333333333334\n",
      "Baseline test accuracy score: 0.58\n"
     ]
    }
   ],
   "source": [
    "# get the score on the train and test sets\n",
    "print(f'Baseline train accuracy score: {pipe_knn_base.score(X_train, y_train)}')\n",
    "print(f'Baseline test accuracy score: {pipe_knn_base.score(X_test, y_test)}')"
   ]
  },
  {
   "cell_type": "markdown",
   "id": "10f039f2",
   "metadata": {},
   "source": [
    "The model is overfit, as can be seen by the difference between the train and test scores."
   ]
  },
  {
   "cell_type": "code",
   "execution_count": 13,
   "id": "f3d430a1",
   "metadata": {},
   "outputs": [
    {
     "name": "stdout",
     "output_type": "stream",
     "text": [
      "Baseline test RECALL: 0.5688\n",
      "Baseline test PRECISION: 0.5818330605564648\n",
      "Baseline test f1 SCORE: 0.5752427184466019\n"
     ]
    }
   ],
   "source": [
    "# what are the other test set metrics for baseline KNN model?\n",
    "print(f'Baseline test RECALL: {recall_score(y_test, pipe_knn_base.predict(X_test))}')\n",
    "print(f'Baseline test PRECISION: {precision_score(y_test, pipe_knn_base.predict(X_test))}')\n",
    "print(f'Baseline test f1 SCORE: {f1_score(y_test, pipe_knn_base.predict(X_test))}')"
   ]
  },
  {
   "cell_type": "markdown",
   "id": "eb4b6354",
   "metadata": {},
   "source": [
    "**Summary of the test scores for the baseline KNN Model**"
   ]
  },
  {
   "cell_type": "code",
   "execution_count": 14,
   "id": "95103eda",
   "metadata": {},
   "outputs": [
    {
     "name": "stdout",
     "output_type": "stream",
     "text": [
      "Metric        Score\n",
      "---------  --------\n",
      "Accuracy   0.58\n",
      "Recall     0.5688\n",
      "Precision  0.581833\n",
      "f1 Score   0.575243\n"
     ]
    }
   ],
   "source": [
    "print(tabulate([['Metric', 'Score'],\n",
    "                ['Accuracy', pipe_knn_base.score(X_test, y_test)],\n",
    "               ['Recall', recall_score(y_test, pipe_knn_base.predict(X_test))],\n",
    "               ['Precision', precision_score(y_test, pipe_knn_base.predict(X_test))],\n",
    "               ['f1 Score', f1_score(y_test, pipe_knn_base.predict(X_test))]],\n",
    "               headers='firstrow'))"
   ]
  },
  {
   "cell_type": "markdown",
   "id": "95c274ad",
   "metadata": {},
   "source": [
    "Scores for the metrics are relatively close to each other, around **0.57 - 0.58**, and are overall not that good.<br>"
   ]
  },
  {
   "cell_type": "markdown",
   "id": "efd02cd8",
   "metadata": {},
   "source": [
    "### k-Nearest Neighbors (KNN) Model Hyperparameter Tuning\n",
    "Since the baseline performed rather poorly, we will tune the hyperparameters of the the KNN model to see if the score can be improved."
   ]
  },
  {
   "cell_type": "code",
   "execution_count": 15,
   "id": "8b5def40",
   "metadata": {},
   "outputs": [],
   "source": [
    "# create KNN pipeline\n",
    "pipe_knn = Pipeline([\n",
    "    ('cvec', CountVectorizer()), # instantiate CountVectorizer\n",
    "    ('knn', KNeighborsClassifier()) # Instantiate KNN\n",
    "])"
   ]
  },
  {
   "cell_type": "code",
   "execution_count": 16,
   "id": "8af11f66",
   "metadata": {},
   "outputs": [],
   "source": [
    "# CountVectorizer and KNN parameters\n",
    "pipe_knn_params = {\n",
    "    'cvec__max_features': [None, 1000, 2000, 3000],\n",
    "    'cvec__min_df': [1, 2, 3],\n",
    "    'cvec__max_df': [.8, .85],\n",
    "    'cvec__ngram_range': [(1,1), (1,2), (1,3)],\n",
    "    'cvec__stop_words': [None, 'english'],\n",
    "    'knn__n_neighbors': [1, 3, 5, 7]\n",
    "}"
   ]
  },
  {
   "cell_type": "code",
   "execution_count": 17,
   "id": "201bfee0",
   "metadata": {},
   "outputs": [],
   "source": [
    "# Gridsearch for KNN\n",
    "gs_knn = GridSearchCV(pipe_knn,\n",
    "                     param_grid=pipe_knn_params,\n",
    "                     cv=5,\n",
    "                     n_jobs=-1)"
   ]
  },
  {
   "cell_type": "code",
   "execution_count": 18,
   "id": "3b345487",
   "metadata": {},
   "outputs": [
    {
     "data": {
      "text/plain": [
       "GridSearchCV(cv=5,\n",
       "             estimator=Pipeline(steps=[('cvec', CountVectorizer()),\n",
       "                                       ('knn', KNeighborsClassifier())]),\n",
       "             n_jobs=-1,\n",
       "             param_grid={'cvec__max_df': [0.8, 0.85],\n",
       "                         'cvec__max_features': [None, 1000, 2000, 3000],\n",
       "                         'cvec__min_df': [1, 2, 3],\n",
       "                         'cvec__ngram_range': [(1, 1), (1, 2), (1, 3)],\n",
       "                         'cvec__stop_words': [None, 'english'],\n",
       "                         'knn__n_neighbors': [1, 3, 5, 7]})"
      ]
     },
     "execution_count": 18,
     "metadata": {},
     "output_type": "execute_result"
    }
   ],
   "source": [
    "# fit the training data\n",
    "gs_knn.fit(X_train, y_train)"
   ]
  },
  {
   "cell_type": "code",
   "execution_count": 19,
   "id": "03bf4497",
   "metadata": {},
   "outputs": [
    {
     "name": "stdout",
     "output_type": "stream",
     "text": [
      "{'cvec__max_df': 0.8, 'cvec__max_features': None, 'cvec__min_df': 1, 'cvec__ngram_range': (1, 1), 'cvec__stop_words': None, 'knn__n_neighbors': 1}\n"
     ]
    },
    {
     "data": {
      "text/plain": [
       "0.5985333333333334"
      ]
     },
     "execution_count": 19,
     "metadata": {},
     "output_type": "execute_result"
    }
   ],
   "source": [
    "# where are the best parameters in KNN model\n",
    "print(gs_knn.best_params_)\n",
    "\n",
    "# best score for KNN model\n",
    "gs_knn.best_score_"
   ]
  },
  {
   "cell_type": "code",
   "execution_count": 20,
   "id": "9481b662",
   "metadata": {},
   "outputs": [
    {
     "name": "stdout",
     "output_type": "stream",
     "text": [
      "KNN train accuracy score: 1.0\n",
      "KNN test accuracy score: 0.6048\n"
     ]
    }
   ],
   "source": [
    "# what are the KNN accuracy scores?\n",
    "print(f'KNN train accuracy score: {gs_knn.score(X_train, y_train)}')\n",
    "print(f'KNN test accuracy score: {gs_knn.score(X_test, y_test)}')"
   ]
  },
  {
   "cell_type": "markdown",
   "id": "7344d32b",
   "metadata": {},
   "source": [
    "A number of observations can be seen by comparing the KNN model with hyperparameter tuning with the baseline.\n",
    "- No removal of stopwords worked best for this model.\n",
    "- Uni-grams only worked best for this model\n",
    "- The nearest neighbours that worked best for this model is **1**.\n",
    "- Although scores have improved slightly over the baseline, overfitting is still present, and severe, with train accuracy being **1.0**.\n",
    "\n",
    "This will help with adjusting the parameters for the other models later."
   ]
  },
  {
   "cell_type": "code",
   "execution_count": 21,
   "id": "b5eae490",
   "metadata": {},
   "outputs": [
    {
     "name": "stdout",
     "output_type": "stream",
     "text": [
      "KNN test RECALL: 0.6952\n",
      "KNN test PRECISION: 0.5887533875338753\n",
      "KNN test f1 SCORE: 0.6375641966250917\n"
     ]
    }
   ],
   "source": [
    "# what are the test scores of the other metrics for KNN model\n",
    "print(f'KNN test RECALL: {recall_score(y_test, gs_knn.predict(X_test))}')\n",
    "print(f'KNN test PRECISION: {precision_score(y_test, gs_knn.predict(X_test))}')\n",
    "print(f'KNN test f1 SCORE: {f1_score(y_test, gs_knn.predict(X_test))}')"
   ]
  },
  {
   "cell_type": "markdown",
   "id": "9db57e1a",
   "metadata": {},
   "source": [
    "There is significant improvement for Recall, and f1 Scores relative to the baseline, and marginal improvement for accuracy and recall relative to the baseline.<br>\n",
    "Although there is improvement over the baseline, it is not significant."
   ]
  },
  {
   "cell_type": "markdown",
   "id": "ee471f25",
   "metadata": {},
   "source": [
    "**Summary of the test scores for the KNN Model with hyperparameter tuning**"
   ]
  },
  {
   "cell_type": "code",
   "execution_count": 22,
   "id": "c7f218cd",
   "metadata": {},
   "outputs": [
    {
     "name": "stdout",
     "output_type": "stream",
     "text": [
      "Metric        Score\n",
      "---------  --------\n",
      "Accuracy   0.6048\n",
      "Recall     0.6952\n",
      "Precision  0.588753\n",
      "f1 Score   0.637564\n"
     ]
    }
   ],
   "source": [
    "print(tabulate([['Metric', 'Score'],\n",
    "                ['Accuracy', gs_knn.score(X_test, y_test)],\n",
    "               ['Recall', recall_score(y_test, gs_knn.predict(X_test))],\n",
    "               ['Precision', precision_score(y_test, gs_knn.predict(X_test))],\n",
    "               ['f1 Score', f1_score(y_test, gs_knn.predict(X_test))]],\n",
    "               headers='firstrow'))"
   ]
  },
  {
   "cell_type": "markdown",
   "id": "6efe2b3e",
   "metadata": {},
   "source": [
    "### Random Forest with hyperparameter tuning"
   ]
  },
  {
   "cell_type": "code",
   "execution_count": 23,
   "id": "3ac5f2b4",
   "metadata": {},
   "outputs": [],
   "source": [
    "# pipeline for RandomForest\n",
    "pipe_rf = Pipeline([\n",
    "    ('cvec', CountVectorizer()), # instantiate CountVectorizer\n",
    "    ('rf', RandomForestClassifier()) # instantiate RandomForest\n",
    "])"
   ]
  },
  {
   "cell_type": "code",
   "execution_count": 24,
   "id": "9bd8e643",
   "metadata": {},
   "outputs": [],
   "source": [
    "# CountVectorizer and RandomForest parameters\n",
    "pipe_rf_params = {\n",
    "    'cvec__max_features': [None, 1000, 2000, 3000],\n",
    "    'cvec__min_df': [1, 2, 3],\n",
    "    'cvec__max_df': [.8, .85],\n",
    "    'cvec__ngram_range': [(1,1), (1,2), (1,3)],\n",
    "    'cvec__stop_words': [None, 'english'],\n",
    "    'rf__n_estimators': [100, 200, 300],\n",
    "    'rf__max_depth': [None, 1, 2, 3, 4, 5],\n",
    "    'rf__random_state': [42],\n",
    "}"
   ]
  },
  {
   "cell_type": "code",
   "execution_count": 25,
   "id": "21659bcf",
   "metadata": {},
   "outputs": [],
   "source": [
    "# GridSearch for RandomForest\n",
    "gs_rf = GridSearchCV(pipe_rf,\n",
    "                     param_grid=pipe_rf_params,\n",
    "                     cv=5,\n",
    "                     n_jobs=-1)"
   ]
  },
  {
   "cell_type": "code",
   "execution_count": 26,
   "id": "7ab4ad48",
   "metadata": {},
   "outputs": [
    {
     "data": {
      "text/plain": [
       "GridSearchCV(cv=5,\n",
       "             estimator=Pipeline(steps=[('cvec', CountVectorizer()),\n",
       "                                       ('rf', RandomForestClassifier())]),\n",
       "             n_jobs=-1,\n",
       "             param_grid={'cvec__max_df': [0.8, 0.85],\n",
       "                         'cvec__max_features': [None, 1000, 2000, 3000],\n",
       "                         'cvec__min_df': [1, 2, 3],\n",
       "                         'cvec__ngram_range': [(1, 1), (1, 2), (1, 3)],\n",
       "                         'cvec__stop_words': [None, 'english'],\n",
       "                         'rf__max_depth': [None, 1, 2, 3, 4, 5],\n",
       "                         'rf__n_estimators': [100, 200, 300],\n",
       "                         'rf__random_state': [42]})"
      ]
     },
     "execution_count": 26,
     "metadata": {},
     "output_type": "execute_result"
    }
   ],
   "source": [
    "# Fit the training data to the RandomForest model\n",
    "gs_rf.fit(X_train, y_train)"
   ]
  },
  {
   "cell_type": "code",
   "execution_count": 27,
   "id": "c16ce95b",
   "metadata": {},
   "outputs": [
    {
     "name": "stdout",
     "output_type": "stream",
     "text": [
      "{'cvec__max_df': 0.8, 'cvec__max_features': None, 'cvec__min_df': 1, 'cvec__ngram_range': (1, 2), 'cvec__stop_words': None, 'rf__max_depth': None, 'rf__n_estimators': 300, 'rf__random_state': 42}\n"
     ]
    },
    {
     "data": {
      "text/plain": [
       "0.7410666666666667"
      ]
     },
     "execution_count": 27,
     "metadata": {},
     "output_type": "execute_result"
    }
   ],
   "source": [
    "# where are the best parameters in RandomForest model\n",
    "print(gs_rf.best_params_)\n",
    "\n",
    "# best score for RandForest model\n",
    "gs_rf.best_score_"
   ]
  },
  {
   "cell_type": "code",
   "execution_count": 28,
   "id": "1e45e9d4",
   "metadata": {},
   "outputs": [
    {
     "name": "stdout",
     "output_type": "stream",
     "text": [
      "RandomForest train accuracy score: 1.0\n",
      "RandomForest test accuracy score: 0.7496\n"
     ]
    }
   ],
   "source": [
    "# what are the RandomForest accuracy scores?\n",
    "print(f'RandomForest train accuracy score: {gs_rf.score(X_train, y_train)}')\n",
    "print(f'RandomForest test accuracy score: {gs_rf.score(X_test, y_test)}')"
   ]
  },
  {
   "cell_type": "markdown",
   "id": "5ced9fca",
   "metadata": {},
   "source": [
    "Some interesting observations for RandomForest:\n",
    "- Better accuracy than KNN with hyperparameter tuning and baseline, but still overfit, with train score being **1.0**.\n",
    "- Uni-grams to bi-gram range work best for this model.\n",
    "- No stop words were removed, which was the best for this model."
   ]
  },
  {
   "cell_type": "code",
   "execution_count": 29,
   "id": "3fcc1490",
   "metadata": {},
   "outputs": [
    {
     "name": "stdout",
     "output_type": "stream",
     "text": [
      "RandomForest test RECALL: 0.7128\n",
      "RandomForest test PRECISION: 0.7694300518134715\n",
      "RandomForest test f1 SCORE: 0.7400332225913621\n"
     ]
    }
   ],
   "source": [
    "# what are the test scores of the other metrics for RandomForest model\n",
    "print(f'RandomForest test RECALL: {recall_score(y_test, gs_rf.predict(X_test))}')\n",
    "print(f'RandomForest test PRECISION: {precision_score(y_test, gs_rf.predict(X_test))}')\n",
    "print(f'RandomForest test f1 SCORE: {f1_score(y_test, gs_rf.predict(X_test))}')"
   ]
  },
  {
   "cell_type": "markdown",
   "id": "d0b077a4",
   "metadata": {},
   "source": [
    "A significant improvement over the KNN with hyperparameter tuning and baseline across all metrics.<br>\n",
    "f1 score is starting to look more promising at **0.74**, f1 score being the most important metric in determining the chosen model for this project.\n",
    "\n",
    "**Summary of the test scores for the RandomForest Model with hyperparameter tuning**"
   ]
  },
  {
   "cell_type": "code",
   "execution_count": 30,
   "id": "8ab55197",
   "metadata": {},
   "outputs": [
    {
     "name": "stdout",
     "output_type": "stream",
     "text": [
      "Metric        Score\n",
      "---------  --------\n",
      "Accuracy   0.7496\n",
      "Recall     0.7128\n",
      "Precision  0.76943\n",
      "f1 Score   0.740033\n"
     ]
    }
   ],
   "source": [
    "print(tabulate([['Metric', 'Score'],\n",
    "                ['Accuracy', gs_rf.score(X_test, y_test)],\n",
    "               ['Recall', recall_score(y_test, gs_rf.predict(X_test))],\n",
    "               ['Precision', precision_score(y_test, gs_rf.predict(X_test))],\n",
    "               ['f1 Score', f1_score(y_test, gs_rf.predict(X_test))]],\n",
    "               headers='firstrow'))"
   ]
  },
  {
   "cell_type": "markdown",
   "id": "78eea020",
   "metadata": {},
   "source": [
    "### Multinomial Naive Bayes (MNB) with hyperparameter tuning"
   ]
  },
  {
   "cell_type": "code",
   "execution_count": 31,
   "id": "42cf3d95",
   "metadata": {},
   "outputs": [],
   "source": [
    "# create a pipeline for MNB\n",
    "pipe_nb = Pipeline([\n",
    "    ('cvec', CountVectorizer()), # instantiate CountVectorizer\n",
    "    ('nb', MultinomialNB()) # instantiate MNB\n",
    "])"
   ]
  },
  {
   "cell_type": "code",
   "execution_count": 32,
   "id": "3bc02a2c",
   "metadata": {},
   "outputs": [],
   "source": [
    "# CountVectorizer and MNB parameters\n",
    "pipe_nb_params = {\n",
    "    'cvec__max_features': [None, 1000, 2000, 3000],\n",
    "    'cvec__min_df': [1, 2, 3],\n",
    "    'cvec__max_df': [.8, .85],\n",
    "    'cvec__ngram_range': [(1,1), (1,2), (1,3)],\n",
    "    'cvec__stop_words': [None, 'english'],\n",
    "    'nb__alpha': np.linspace(0.5, 1.8, 8),\n",
    "    'nb__fit_prior': [True, False]\n",
    "}"
   ]
  },
  {
   "cell_type": "code",
   "execution_count": 33,
   "id": "5fee8a9d",
   "metadata": {},
   "outputs": [],
   "source": [
    "# Instantiate GridSearchCV for MNB\n",
    "gs_nb = GridSearchCV(pipe_nb, \n",
    "                     param_grid=pipe_nb_params,\n",
    "                     cv=5,\n",
    "                     n_jobs=-1)"
   ]
  },
  {
   "cell_type": "code",
   "execution_count": 34,
   "id": "6707e95a",
   "metadata": {},
   "outputs": [
    {
     "data": {
      "text/plain": [
       "GridSearchCV(cv=5,\n",
       "             estimator=Pipeline(steps=[('cvec', CountVectorizer()),\n",
       "                                       ('nb', MultinomialNB())]),\n",
       "             n_jobs=-1,\n",
       "             param_grid={'cvec__max_df': [0.8, 0.85],\n",
       "                         'cvec__max_features': [None, 1000, 2000, 3000],\n",
       "                         'cvec__min_df': [1, 2, 3],\n",
       "                         'cvec__ngram_range': [(1, 1), (1, 2), (1, 3)],\n",
       "                         'cvec__stop_words': [None, 'english'],\n",
       "                         'nb__alpha': array([0.5       , 0.68571429, 0.87142857, 1.05714286, 1.24285714,\n",
       "       1.42857143, 1.61428571, 1.8       ]),\n",
       "                         'nb__fit_prior': [True, False]})"
      ]
     },
     "execution_count": 34,
     "metadata": {},
     "output_type": "execute_result"
    }
   ],
   "source": [
    "# fit the training data to the MNB model\n",
    "gs_nb.fit(X_train, y_train)"
   ]
  },
  {
   "cell_type": "code",
   "execution_count": 35,
   "id": "2d8fc8cb",
   "metadata": {},
   "outputs": [
    {
     "name": "stdout",
     "output_type": "stream",
     "text": [
      "{'cvec__max_df': 0.8, 'cvec__max_features': None, 'cvec__min_df': 1, 'cvec__ngram_range': (1, 2), 'cvec__stop_words': None, 'nb__alpha': 1.6142857142857143, 'nb__fit_prior': True}\n"
     ]
    },
    {
     "data": {
      "text/plain": [
       "0.7847999999999999"
      ]
     },
     "execution_count": 35,
     "metadata": {},
     "output_type": "execute_result"
    }
   ],
   "source": [
    "# where are the best parameters in MNB model\n",
    "print(gs_nb.best_params_)\n",
    "\n",
    "# best score for MNB model\n",
    "gs_nb.best_score_"
   ]
  },
  {
   "cell_type": "code",
   "execution_count": 36,
   "id": "573101eb",
   "metadata": {},
   "outputs": [
    {
     "name": "stdout",
     "output_type": "stream",
     "text": [
      "MNB train accuracy score: 0.984\n",
      "MNB test accuracy score: 0.7908\n"
     ]
    }
   ],
   "source": [
    "# what are the MNB accuracy scores?\n",
    "print(f'MNB train accuracy score: {gs_nb.score(X_train, y_train)}')\n",
    "print(f'MNB test accuracy score: {gs_nb.score(X_test, y_test)}')"
   ]
  },
  {
   "cell_type": "markdown",
   "id": "315632a0",
   "metadata": {},
   "source": [
    "Interesting observations from MNB:\n",
    "- Uni-grams to bi-grams range worked the best\n",
    "- No stop word removal worked best for the model\n",
    "- alpha value of **1.6142857142857143**\n",
    "- Model is strong predictor with a relatively high test score, but still overfit."
   ]
  },
  {
   "cell_type": "code",
   "execution_count": 37,
   "id": "07ac3b7c",
   "metadata": {},
   "outputs": [
    {
     "name": "stdout",
     "output_type": "stream",
     "text": [
      "MNB test RECALL: 0.8184\n",
      "MNB test PRECISION: 0.775587566338135\n",
      "MNB test f1 SCORE: 0.7964188400155703\n"
     ]
    }
   ],
   "source": [
    "# what are the test scores of the other metrics for MNB model\n",
    "print(f'MNB test RECALL: {recall_score(y_test, gs_nb.predict(X_test))}')\n",
    "print(f'MNB test PRECISION: {precision_score(y_test, gs_nb.predict(X_test))}')\n",
    "print(f'MNB test f1 SCORE: {f1_score(y_test, gs_nb.predict(X_test))}')"
   ]
  },
  {
   "cell_type": "markdown",
   "id": "9e755da6",
   "metadata": {},
   "source": [
    "All metrics have relatively high scores compared , with RECALL being the highest at **0.8184**, and PRECISION being the lowest at **0.7756**, which is indicative that the model predicted more false positives than false negatives.<br>\n",
    "f1 score outperforms that of baseline, and KNN and RandomForest with hyperparameter tuning by a significant margin.\n",
    "\n",
    "**Summary of the test scores for the RandomForest Model with hyperparameter tuning**"
   ]
  },
  {
   "cell_type": "code",
   "execution_count": 38,
   "id": "603664c9",
   "metadata": {},
   "outputs": [
    {
     "name": "stdout",
     "output_type": "stream",
     "text": [
      "Metric        Score\n",
      "---------  --------\n",
      "Accuracy   0.7908\n",
      "Recall     0.8184\n",
      "Precision  0.775588\n",
      "f1 Score   0.796419\n"
     ]
    }
   ],
   "source": [
    "print(tabulate([['Metric', 'Score'],\n",
    "                ['Accuracy', gs_nb.score(X_test, y_test)],\n",
    "               ['Recall', recall_score(y_test, gs_nb.predict(X_test))],\n",
    "               ['Precision', precision_score(y_test, gs_nb.predict(X_test))],\n",
    "               ['f1 Score', f1_score(y_test, gs_nb.predict(X_test))]],\n",
    "               headers='firstrow'))"
   ]
  },
  {
   "cell_type": "markdown",
   "id": "ac1fb9c5",
   "metadata": {},
   "source": [
    "### Logistic Regression with hyperparameter tuning"
   ]
  },
  {
   "cell_type": "code",
   "execution_count": 39,
   "id": "a328bcf8",
   "metadata": {},
   "outputs": [],
   "source": [
    "# create pipeline for LogisticRegression\n",
    "pipe_log = Pipeline([\n",
    "    ('cvec', CountVectorizer()), # instantiate CountVectorizer\n",
    "    ('log', LogisticRegression()) # instantiate LogisticRegression\n",
    "])"
   ]
  },
  {
   "cell_type": "code",
   "execution_count": 40,
   "id": "b03c5bc3",
   "metadata": {},
   "outputs": [],
   "source": [
    "pipe_log_params = {\n",
    "    'cvec__max_features': [None, 1000, 2000, 3000],\n",
    "    'cvec__min_df': [1, 2, 3],\n",
    "    'cvec__max_df': [.8, .85],\n",
    "    'cvec__ngram_range': [(1,1), (1,2), (1,3)],\n",
    "    'cvec__stop_words': [None, 'english'],\n",
    "    'log__penalty': ['l1', 'l2'],\n",
    "    'log__max_iter': [100, 300, 500],\n",
    "    'log__random_state': [42]\n",
    "}"
   ]
  },
  {
   "cell_type": "code",
   "execution_count": 41,
   "id": "8cb6fbea",
   "metadata": {},
   "outputs": [],
   "source": [
    "# Instantiate GridSearchCV for Logistic Regression\n",
    "gs_log = GridSearchCV(pipe_log, \n",
    "                     param_grid=pipe_log_params,\n",
    "                     cv=5,\n",
    "                     n_jobs=-1)"
   ]
  },
  {
   "cell_type": "code",
   "execution_count": 42,
   "id": "6cc53cf0",
   "metadata": {},
   "outputs": [
    {
     "name": "stderr",
     "output_type": "stream",
     "text": [
      "/opt/anaconda3/lib/python3.8/site-packages/sklearn/model_selection/_search.py:918: UserWarning: One or more of the test scores are non-finite: [       nan 0.76413333        nan 0.76413333        nan 0.76413333\n",
      "        nan 0.74533333        nan 0.74533333        nan 0.74533333\n",
      "        nan 0.77626667        nan 0.77626667        nan 0.77626667\n",
      "        nan 0.75893333        nan 0.75893333        nan 0.75893333\n",
      "        nan 0.7732            nan 0.7732            nan 0.7732\n",
      "        nan 0.75786667        nan 0.75786667        nan 0.75786667\n",
      "        nan 0.7624            nan 0.7624            nan 0.7624\n",
      "        nan 0.74426667        nan 0.74426667        nan 0.74426667\n",
      "        nan 0.77133333        nan 0.77133333        nan 0.77133333\n",
      "        nan 0.74946667        nan 0.74946667        nan 0.74946667\n",
      "        nan 0.7724            nan 0.7724            nan 0.7724\n",
      "        nan 0.7496            nan 0.7496            nan 0.7496\n",
      "        nan 0.7596            nan 0.7596            nan 0.7596\n",
      "        nan 0.73693333        nan 0.73693333        nan 0.73693333\n",
      "        nan 0.76453333        nan 0.76453333        nan 0.76453333\n",
      "        nan 0.74226667        nan 0.74226667        nan 0.74226667\n",
      "        nan 0.76546667        nan 0.76546667        nan 0.76546667\n",
      "        nan 0.7436            nan 0.7436            nan 0.7436\n",
      "        nan 0.73426667        nan 0.73426667        nan 0.73426667\n",
      "        nan 0.7088            nan 0.7088            nan 0.7088\n",
      "        nan 0.7352            nan 0.7352            nan 0.7352\n",
      "        nan 0.7096            nan 0.7096            nan 0.7096\n",
      "        nan 0.73546667        nan 0.73546667        nan 0.73546667\n",
      "        nan 0.70933333        nan 0.70933333        nan 0.70933333\n",
      "        nan 0.73613333        nan 0.73613333        nan 0.73613333\n",
      "        nan 0.70773333        nan 0.70773333        nan 0.70773333\n",
      "        nan 0.73586667        nan 0.73586667        nan 0.73586667\n",
      "        nan 0.70933333        nan 0.70933333        nan 0.70933333\n",
      "        nan 0.7352            nan 0.7352            nan 0.7352\n",
      "        nan 0.70893333        nan 0.70893333        nan 0.70893333\n",
      "        nan 0.73373333        nan 0.73373333        nan 0.73373333\n",
      "        nan 0.7084            nan 0.7084            nan 0.7084\n",
      "        nan 0.73546667        nan 0.73546667        nan 0.73546667\n",
      "        nan 0.70973333        nan 0.70973333        nan 0.70973333\n",
      "        nan 0.73533333        nan 0.73533333        nan 0.73533333\n",
      "        nan 0.7104            nan 0.7104            nan 0.7104\n",
      "        nan 0.748             nan 0.748             nan 0.748\n",
      "        nan 0.72333333        nan 0.72333333        nan 0.72333333\n",
      "        nan 0.74613333        nan 0.74613333        nan 0.74613333\n",
      "        nan 0.7232            nan 0.7232            nan 0.7232\n",
      "        nan 0.7448            nan 0.7448            nan 0.7448\n",
      "        nan 0.72453333        nan 0.72453333        nan 0.72453333\n",
      "        nan 0.7504            nan 0.7504            nan 0.7504\n",
      "        nan 0.72346667        nan 0.72346667        nan 0.72346667\n",
      "        nan 0.7456            nan 0.7456            nan 0.7456\n",
      "        nan 0.72373333        nan 0.72373333        nan 0.72373333\n",
      "        nan 0.7448            nan 0.7448            nan 0.7448\n",
      "        nan 0.72706667        nan 0.72706667        nan 0.72706667\n",
      "        nan 0.7472            nan 0.7472            nan 0.7472\n",
      "        nan 0.72266667        nan 0.72266667        nan 0.72266667\n",
      "        nan 0.74453333        nan 0.74453333        nan 0.74453333\n",
      "        nan 0.72506667        nan 0.72506667        nan 0.72506667\n",
      "        nan 0.74413333        nan 0.74413333        nan 0.74413333\n",
      "        nan 0.7268            nan 0.7268            nan 0.7268\n",
      "        nan 0.75506667        nan 0.75506667        nan 0.75506667\n",
      "        nan 0.73026667        nan 0.73026667        nan 0.73026667\n",
      "        nan 0.75346667        nan 0.75346667        nan 0.75346667\n",
      "        nan 0.73506667        nan 0.73506667        nan 0.73506667\n",
      "        nan 0.754             nan 0.754             nan 0.754\n",
      "        nan 0.73466667        nan 0.73466667        nan 0.73466667\n",
      "        nan 0.7552            nan 0.7552            nan 0.7552\n",
      "        nan 0.72906667        nan 0.72906667        nan 0.72906667\n",
      "        nan 0.7528            nan 0.7528            nan 0.7528\n",
      "        nan 0.73506667        nan 0.73506667        nan 0.73506667\n",
      "        nan 0.75466667        nan 0.75466667        nan 0.75466667\n",
      "        nan 0.736             nan 0.736             nan 0.736\n",
      "        nan 0.7544            nan 0.7544            nan 0.7544\n",
      "        nan 0.73026667        nan 0.73026667        nan 0.73026667\n",
      "        nan 0.75426667        nan 0.75426667        nan 0.75426667\n",
      "        nan 0.73413333        nan 0.73413333        nan 0.73413333\n",
      "        nan 0.75306667        nan 0.75306667        nan 0.75306667\n",
      "        nan 0.73786667        nan 0.73786667        nan 0.73786667\n",
      "        nan 0.76413333        nan 0.76413333        nan 0.76413333\n",
      "        nan 0.74533333        nan 0.74533333        nan 0.74533333\n",
      "        nan 0.77626667        nan 0.77626667        nan 0.77626667\n",
      "        nan 0.75893333        nan 0.75893333        nan 0.75893333\n",
      "        nan 0.7732            nan 0.7732            nan 0.7732\n",
      "        nan 0.75786667        nan 0.75786667        nan 0.75786667\n",
      "        nan 0.7624            nan 0.7624            nan 0.7624\n",
      "        nan 0.74426667        nan 0.74426667        nan 0.74426667\n",
      "        nan 0.77133333        nan 0.77133333        nan 0.77133333\n",
      "        nan 0.74946667        nan 0.74946667        nan 0.74946667\n",
      "        nan 0.7724            nan 0.7724            nan 0.7724\n",
      "        nan 0.7496            nan 0.7496            nan 0.7496\n",
      "        nan 0.7596            nan 0.7596            nan 0.7596\n",
      "        nan 0.73693333        nan 0.73693333        nan 0.73693333\n",
      "        nan 0.76453333        nan 0.76453333        nan 0.76453333\n",
      "        nan 0.74226667        nan 0.74226667        nan 0.74226667\n",
      "        nan 0.76546667        nan 0.76546667        nan 0.76546667\n",
      "        nan 0.7436            nan 0.7436            nan 0.7436\n",
      "        nan 0.73426667        nan 0.73426667        nan 0.73426667\n",
      "        nan 0.7088            nan 0.7088            nan 0.7088\n",
      "        nan 0.7352            nan 0.7352            nan 0.7352\n",
      "        nan 0.7096            nan 0.7096            nan 0.7096\n",
      "        nan 0.73546667        nan 0.73546667        nan 0.73546667\n",
      "        nan 0.70933333        nan 0.70933333        nan 0.70933333\n",
      "        nan 0.73613333        nan 0.73613333        nan 0.73613333\n",
      "        nan 0.70773333        nan 0.70773333        nan 0.70773333\n",
      "        nan 0.73586667        nan 0.73586667        nan 0.73586667\n",
      "        nan 0.70933333        nan 0.70933333        nan 0.70933333\n",
      "        nan 0.7352            nan 0.7352            nan 0.7352\n",
      "        nan 0.70893333        nan 0.70893333        nan 0.70893333\n",
      "        nan 0.73373333        nan 0.73373333        nan 0.73373333\n",
      "        nan 0.7084            nan 0.7084            nan 0.7084\n",
      "        nan 0.73546667        nan 0.73546667        nan 0.73546667\n",
      "        nan 0.70973333        nan 0.70973333        nan 0.70973333\n",
      "        nan 0.73533333        nan 0.73533333        nan 0.73533333\n",
      "        nan 0.7104            nan 0.7104            nan 0.7104\n",
      "        nan 0.748             nan 0.748             nan 0.748\n",
      "        nan 0.72333333        nan 0.72333333        nan 0.72333333\n",
      "        nan 0.74613333        nan 0.74613333        nan 0.74613333\n",
      "        nan 0.7232            nan 0.7232            nan 0.7232\n",
      "        nan 0.7448            nan 0.7448            nan 0.7448\n",
      "        nan 0.72453333        nan 0.72453333        nan 0.72453333\n",
      "        nan 0.7504            nan 0.7504            nan 0.7504\n",
      "        nan 0.72346667        nan 0.72346667        nan 0.72346667\n",
      "        nan 0.7456            nan 0.7456            nan 0.7456\n",
      "        nan 0.72373333        nan 0.72373333        nan 0.72373333\n",
      "        nan 0.7448            nan 0.7448            nan 0.7448\n",
      "        nan 0.72706667        nan 0.72706667        nan 0.72706667\n",
      "        nan 0.7472            nan 0.7472            nan 0.7472\n",
      "        nan 0.72266667        nan 0.72266667        nan 0.72266667\n",
      "        nan 0.74453333        nan 0.74453333        nan 0.74453333\n",
      "        nan 0.72506667        nan 0.72506667        nan 0.72506667\n",
      "        nan 0.74413333        nan 0.74413333        nan 0.74413333\n",
      "        nan 0.7268            nan 0.7268            nan 0.7268\n",
      "        nan 0.75506667        nan 0.75506667        nan 0.75506667\n",
      "        nan 0.73026667        nan 0.73026667        nan 0.73026667\n",
      "        nan 0.75346667        nan 0.75346667        nan 0.75346667\n",
      "        nan 0.73506667        nan 0.73506667        nan 0.73506667\n",
      "        nan 0.754             nan 0.754             nan 0.754\n",
      "        nan 0.73466667        nan 0.73466667        nan 0.73466667\n",
      "        nan 0.7552            nan 0.7552            nan 0.7552\n",
      "        nan 0.72906667        nan 0.72906667        nan 0.72906667\n",
      "        nan 0.7528            nan 0.7528            nan 0.7528\n",
      "        nan 0.73506667        nan 0.73506667        nan 0.73506667\n",
      "        nan 0.75466667        nan 0.75466667        nan 0.75466667\n",
      "        nan 0.736             nan 0.736             nan 0.736\n",
      "        nan 0.7544            nan 0.7544            nan 0.7544\n",
      "        nan 0.73026667        nan 0.73026667        nan 0.73026667\n",
      "        nan 0.75426667        nan 0.75426667        nan 0.75426667\n",
      "        nan 0.73413333        nan 0.73413333        nan 0.73413333\n",
      "        nan 0.75306667        nan 0.75306667        nan 0.75306667\n",
      "        nan 0.73786667        nan 0.73786667        nan 0.73786667]\n",
      "  warnings.warn(\n"
     ]
    },
    {
     "data": {
      "text/plain": [
       "GridSearchCV(cv=5,\n",
       "             estimator=Pipeline(steps=[('cvec', CountVectorizer()),\n",
       "                                       ('log', LogisticRegression())]),\n",
       "             n_jobs=-1,\n",
       "             param_grid={'cvec__max_df': [0.8, 0.85],\n",
       "                         'cvec__max_features': [None, 1000, 2000, 3000],\n",
       "                         'cvec__min_df': [1, 2, 3],\n",
       "                         'cvec__ngram_range': [(1, 1), (1, 2), (1, 3)],\n",
       "                         'cvec__stop_words': [None, 'english'],\n",
       "                         'log__max_iter': [100, 300, 500],\n",
       "                         'log__penalty': ['l1', 'l2'],\n",
       "                         'log__random_state': [42]})"
      ]
     },
     "execution_count": 42,
     "metadata": {},
     "output_type": "execute_result"
    }
   ],
   "source": [
    "# fit the training data to the LogisticRegression model\n",
    "gs_log.fit(X_train, y_train)"
   ]
  },
  {
   "cell_type": "code",
   "execution_count": 43,
   "id": "499d07ae",
   "metadata": {},
   "outputs": [
    {
     "name": "stdout",
     "output_type": "stream",
     "text": [
      "{'cvec__max_df': 0.8, 'cvec__max_features': None, 'cvec__min_df': 1, 'cvec__ngram_range': (1, 2), 'cvec__stop_words': None, 'log__max_iter': 100, 'log__penalty': 'l2', 'log__random_state': 42}\n"
     ]
    },
    {
     "data": {
      "text/plain": [
       "0.7762666666666667"
      ]
     },
     "execution_count": 43,
     "metadata": {},
     "output_type": "execute_result"
    }
   ],
   "source": [
    "# where are the best parameters in LogisticRegression model\n",
    "print(gs_log.best_params_)\n",
    "\n",
    "# best score for LogisticRegression model\n",
    "gs_log.best_score_"
   ]
  },
  {
   "cell_type": "code",
   "execution_count": 44,
   "id": "93f08930",
   "metadata": {},
   "outputs": [
    {
     "name": "stdout",
     "output_type": "stream",
     "text": [
      "LogisticRegression train accuracy score: 0.9997333333333334\n",
      "LogisticRegression test accuracy score: 0.7852\n"
     ]
    }
   ],
   "source": [
    "# what are the LogisticRegression accuracy scores?\n",
    "print(f'LogisticRegression train accuracy score: {gs_log.score(X_train, y_train)}')\n",
    "print(f'LogisticRegression test accuracy score: {gs_log.score(X_test, y_test)}')"
   ]
  },
  {
   "cell_type": "markdown",
   "id": "d8f0aece",
   "metadata": {},
   "source": [
    "Interesting observations with Logistic Regression:\n",
    "- Uni-grams to bi-grams worked the best for this model\n",
    "- No stop words were removed, which worked the best for this model\n",
    "- l2 penalty, ie Ridge Regression worked best for the model\n",
    "- Model is also overfit."
   ]
  },
  {
   "cell_type": "code",
   "execution_count": 45,
   "id": "5f3465b3",
   "metadata": {},
   "outputs": [
    {
     "name": "stdout",
     "output_type": "stream",
     "text": [
      "LogisticRegression test RECALL: 0.78\n",
      "LogisticRegression test PRECISION: 0.788197251414713\n",
      "LogisticRegression test f1 SCORE: 0.7840772014475271\n"
     ]
    }
   ],
   "source": [
    "# what are the test scores of the other metrics for LogisticRegression model\n",
    "print(f'LogisticRegression test RECALL: {recall_score(y_test, gs_log.predict(X_test))}')\n",
    "print(f'LogisticRegression test PRECISION: {precision_score(y_test, gs_log.predict(X_test))}')\n",
    "print(f'LogisticRegression test f1 SCORE: {f1_score(y_test, gs_log.predict(X_test))}')"
   ]
  },
  {
   "cell_type": "markdown",
   "id": "09afb9cd",
   "metadata": {},
   "source": [
    "The most consistent model so far, with scores of all metrics being arounf **0.78**.\n",
    "All scores are relatively high, with Precision being the highest at **0.7882** and Precision being the lowest at **0.78**, which is indicative that the model predicted more slightly more false negatives than false positives.<br>\n",
    "f1 score outperforms that of baseline, and KNN and RandomForest with hyperparameter tuning, but is slighlty worse than MNB with hyperparameter tuning.\n",
    "\n",
    "**Summary of the test scores for the Logistic Regression Model with hyperparameter tuning**"
   ]
  },
  {
   "cell_type": "code",
   "execution_count": 46,
   "id": "8c4dfe8a",
   "metadata": {},
   "outputs": [
    {
     "name": "stdout",
     "output_type": "stream",
     "text": [
      "Metric        Score\n",
      "---------  --------\n",
      "Accuracy   0.7852\n",
      "Recall     0.78\n",
      "Precision  0.788197\n",
      "f1 Score   0.784077\n"
     ]
    }
   ],
   "source": [
    "print(tabulate([['Metric', 'Score'],\n",
    "                ['Accuracy', gs_log.score(X_test, y_test)],\n",
    "               ['Recall', recall_score(y_test, gs_log.predict(X_test))],\n",
    "               ['Precision', precision_score(y_test, gs_log.predict(X_test))],\n",
    "               ['f1 Score', f1_score(y_test, gs_log.predict(X_test))]],\n",
    "               headers='firstrow'))"
   ]
  },
  {
   "cell_type": "markdown",
   "id": "ef971dd1",
   "metadata": {},
   "source": [
    "### Support Vector Machine (SVM) with hyperparameter tuning"
   ]
  },
  {
   "cell_type": "code",
   "execution_count": 47,
   "id": "ebccc6f8",
   "metadata": {},
   "outputs": [],
   "source": [
    "# create pipeline for SVM\n",
    "pipe_svm = Pipeline([\n",
    "    ('cvec', CountVectorizer()), # instantiate CountVectorizer\n",
    "    ('svm', svm.SVC()) # instantiate SVM\n",
    "])"
   ]
  },
  {
   "cell_type": "code",
   "execution_count": 48,
   "id": "323ce4d5",
   "metadata": {},
   "outputs": [],
   "source": [
    "pipe_svm_params = {\n",
    "    'cvec__max_features': [None, 1000, 2000, 3000],\n",
    "    'cvec__min_df': [1, 2, 3],\n",
    "    'cvec__max_df': [.8, .85],\n",
    "    'cvec__ngram_range': [(1,1), (1,2), (1,3)],\n",
    "    'cvec__stop_words': [None, 'english'],\n",
    "    'svm__kernel': ['rbf', 'linear'],\n",
    "    'svm__gamma': ['scale', 'auto'],\n",
    "    'svm__random_state': [42]\n",
    "}"
   ]
  },
  {
   "cell_type": "code",
   "execution_count": 49,
   "id": "2cff264d",
   "metadata": {},
   "outputs": [],
   "source": [
    "# Instantiate GridSearchCV for SVM\n",
    "gs_svm = GridSearchCV(pipe_svm, \n",
    "                     param_grid=pipe_svm_params,\n",
    "                     cv=5,\n",
    "                     n_jobs=-1)"
   ]
  },
  {
   "cell_type": "code",
   "execution_count": 50,
   "id": "fd5d0ce6",
   "metadata": {},
   "outputs": [
    {
     "data": {
      "text/plain": [
       "GridSearchCV(cv=5,\n",
       "             estimator=Pipeline(steps=[('cvec', CountVectorizer()),\n",
       "                                       ('svm', SVC())]),\n",
       "             n_jobs=-1,\n",
       "             param_grid={'cvec__max_df': [0.8, 0.85],\n",
       "                         'cvec__max_features': [None, 1000, 2000, 3000],\n",
       "                         'cvec__min_df': [1, 2, 3],\n",
       "                         'cvec__ngram_range': [(1, 1), (1, 2), (1, 3)],\n",
       "                         'cvec__stop_words': [None, 'english'],\n",
       "                         'svm__gamma': ['scale', 'auto'],\n",
       "                         'svm__kernel': ['rbf', 'linear'],\n",
       "                         'svm__random_state': [42]})"
      ]
     },
     "execution_count": 50,
     "metadata": {},
     "output_type": "execute_result"
    }
   ],
   "source": [
    "# fit the training data to the SVM model\n",
    "gs_svm.fit(X_train, y_train)"
   ]
  },
  {
   "cell_type": "code",
   "execution_count": 51,
   "id": "a356a8a1",
   "metadata": {},
   "outputs": [
    {
     "name": "stdout",
     "output_type": "stream",
     "text": [
      "{'cvec__max_df': 0.8, 'cvec__max_features': None, 'cvec__min_df': 1, 'cvec__ngram_range': (1, 3), 'cvec__stop_words': None, 'svm__gamma': 'scale', 'svm__kernel': 'linear', 'svm__random_state': 42}\n"
     ]
    },
    {
     "data": {
      "text/plain": [
       "0.7694666666666666"
      ]
     },
     "execution_count": 51,
     "metadata": {},
     "output_type": "execute_result"
    }
   ],
   "source": [
    "# where are the best parameters in SVM model\n",
    "print(gs_svm.best_params_)\n",
    "\n",
    "# best score for SVM model\n",
    "gs_svm.best_score_"
   ]
  },
  {
   "cell_type": "code",
   "execution_count": 52,
   "id": "04d2f6c5",
   "metadata": {},
   "outputs": [
    {
     "name": "stdout",
     "output_type": "stream",
     "text": [
      "SVM train accuracy score: 1.0\n",
      "SVM test accuracy score: 0.7804\n"
     ]
    }
   ],
   "source": [
    "# what are the SVM accuracy scores?\n",
    "print(f'SVM train accuracy score: {gs_svm.score(X_train, y_train)}')\n",
    "print(f'SVM test accuracy score: {gs_svm.score(X_test, y_test)}')"
   ]
  },
  {
   "cell_type": "markdown",
   "id": "9f04c8e3",
   "metadata": {},
   "source": [
    "Interesting observations from Support Vector Machine:\n",
    "- Uni-grams tri-grams range worked the best for the model\n",
    "- No stop word removal worked best for the model\n",
    "- Linear worked better than Radial Basis Function(rbf) for the kernel parameter\n",
    "- Model is overfit, with the train score being 1.0."
   ]
  },
  {
   "cell_type": "code",
   "execution_count": 53,
   "id": "9f97a1d8",
   "metadata": {},
   "outputs": [
    {
     "name": "stdout",
     "output_type": "stream",
     "text": [
      "SVM test RECALL: 0.7784\n",
      "SVM test PRECISION: 0.7815261044176707\n",
      "SVM test f1 SCORE: 0.7799599198396793\n"
     ]
    }
   ],
   "source": [
    "# what are the test scores of the other metrics for SVM model\n",
    "print(f'SVM test RECALL: {recall_score(y_test, gs_svm.predict(X_test))}')\n",
    "print(f'SVM test PRECISION: {precision_score(y_test, gs_svm.predict(X_test))}')\n",
    "print(f'SVM test f1 SCORE: {f1_score(y_test, gs_svm.predict(X_test))}')"
   ]
  },
  {
   "cell_type": "markdown",
   "id": "96c881bb",
   "metadata": {},
   "source": [
    "All scores are relatively high, with Recall being the highest at 0.8016 and Precision being the lowest at 0.7731, which is indicative that the model predicted more false positives than false negatives.<br>\n",
    "f1 score outperforms that of baseline, and KNN, RandomForest and Logistic Regression with hyperparameter tuning, but is slighlty worse than MNB with hyperparameter tuning.\n",
    "\n",
    "**Summary of the test scores for the Support Vector Machine Model with hyperparameter tuning**"
   ]
  },
  {
   "cell_type": "code",
   "execution_count": 54,
   "id": "117e6878",
   "metadata": {},
   "outputs": [
    {
     "name": "stdout",
     "output_type": "stream",
     "text": [
      "Metric        Score\n",
      "---------  --------\n",
      "Accuracy   0.7804\n",
      "Recall     0.7784\n",
      "Precision  0.781526\n",
      "f1 Score   0.77996\n"
     ]
    }
   ],
   "source": [
    "print(tabulate([['Metric', 'Score'],\n",
    "                ['Accuracy', gs_svm.score(X_test, y_test)],\n",
    "               ['Recall', recall_score(y_test, gs_svm.predict(X_test))],\n",
    "               ['Precision', precision_score(y_test, gs_svm.predict(X_test))],\n",
    "               ['f1 Score', f1_score(y_test, gs_svm.predict(X_test))]],\n",
    "               headers='firstrow'))"
   ]
  },
  {
   "cell_type": "markdown",
   "id": "fc4c142a",
   "metadata": {},
   "source": [
    "## Summary of modelling scores"
   ]
  },
  {
   "cell_type": "code",
   "execution_count": 55,
   "id": "116837fd",
   "metadata": {},
   "outputs": [
    {
     "name": "stdout",
     "output_type": "stream",
     "text": [
      "Model                      Accuracy    Recall    Precision    f1 Score\n",
      "-----------------------  ----------  --------  -----------  ----------\n",
      "Baseline                     0.58      0.5688     0.581833    0.575243\n",
      "k-Nearest Neighbors          0.6048    0.6952     0.588753    0.637564\n",
      "Random Forest                0.7496    0.7128     0.76943     0.740033\n",
      "Multinomial Naive Bayes      0.7908    0.8184     0.775588    0.796419\n",
      "Logistic Regression          0.7852    0.78       0.788197    0.784077\n",
      "Support Vector Machine       0.7804    0.7784     0.781526    0.77996\n",
      "\n",
      "The Baseline model being k-Nearest Neighbors without any hyperparameter tuning.\n"
     ]
    }
   ],
   "source": [
    "print(tabulate([['Model', 'Accuracy', 'Recall', 'Precision', 'f1 Score'],\n",
    "                ['Baseline', pipe_knn_base.score(X_test, y_test), recall_score(y_test, pipe_knn_base.predict(X_test)), precision_score(y_test, pipe_knn_base.predict(X_test)), f1_score(y_test, pipe_knn_base.predict(X_test))],\n",
    "               ['k-Nearest Neighbors', gs_knn.score(X_test, y_test), recall_score(y_test, gs_knn.predict(X_test)), precision_score(y_test, gs_knn.predict(X_test)), f1_score(y_test, gs_knn.predict(X_test))],\n",
    "               ['Random Forest', gs_rf.score(X_test, y_test), recall_score(y_test, gs_rf.predict(X_test)), precision_score(y_test, gs_rf.predict(X_test)), f1_score(y_test, gs_rf.predict(X_test))],\n",
    "               ['Multinomial Naive Bayes', gs_nb.score(X_test, y_test), recall_score(y_test, gs_nb.predict(X_test)), precision_score(y_test, gs_nb.predict(X_test)), f1_score(y_test, gs_nb.predict(X_test))],\n",
    "               ['Logistic Regression', gs_log.score(X_test, y_test), recall_score(y_test, gs_log.predict(X_test)), precision_score(y_test, gs_log.predict(X_test)), f1_score(y_test, gs_log.predict(X_test))],\n",
    "               ['Support Vector Machine', gs_svm.score(X_test, y_test), recall_score(y_test, gs_svm.predict(X_test)), precision_score(y_test, gs_svm.predict(X_test)), f1_score(y_test, gs_svm.predict(X_test))]],\n",
    "               headers='firstrow'))\n",
    "\n",
    "print('') # leave a space\n",
    "\n",
    "print('The Baseline model being k-Nearest Neighbors without any hyperparameter tuning.')"
   ]
  },
  {
   "cell_type": "markdown",
   "id": "8eb42964",
   "metadata": {},
   "source": [
    "All models showed overfitting based on the train and test accuracy score.\n",
    "\n",
    "For all models with hyperparameter tuning, there was no removal of stopwords - this makes sense, as most models had ngram ranges of (1, 2). Bi-grams tend to not make as much sense with stopwords removed.\n",
    "\n",
    "As can be seen from the table above, recall is always lower than precision for all models except Multinomial Naive Bayes and the baseline. This indicates that the models tend to predict more false negatives than false positives for this dataset.\n",
    "\n",
    "The baseline(KNN with no hyperparameter tuning) has the worst overall performance, with every other model outperforming it in all chosen metrics.\n",
    "\n",
    "Multinomial Naive Bayes has the best accuracy, recall, precision and f1 score, f1 score being the most important metric in this project. \n",
    "\n",
    "As Multinomial Naive Bayes has the highest number of best metrics, especially the f1 score, it will thus serve as our reccomended model."
   ]
  },
  {
   "cell_type": "markdown",
   "id": "917eb43a",
   "metadata": {},
   "source": [
    "### Visually Evaluating the Recommended Multinomial Naive Bayes Model Using ROC Curve\n",
    "The ROC curve provides a good visualisation on how well the model performs.\n",
    "\n",
    "Plot the True Positive Rate (**sensitivity**) vs. False Positive Rate (**1 - specificity**) for the range of possible decision thresholds (from 0 to 1) will give you the ROC curve.\n",
    "\n",
    "$$\\text{True Positive Rate (TPR/Sensitivity/Recall)} = \\frac{TP}{P} = \\frac{TP}{TP+FN}$$\n",
    "$$\\text{True Negative Rate (TNR/Specificity)} = \\frac{TN}{N} = \\frac{TN}{TN+FP}$$\n",
    "$$\\text{False Positive Rate (FPR)} = \\frac{FP}{N} = \\frac{FP}{FP+TN} = \\text{1 - TNR}$$ \n",
    "\n",
    "We will first recreate the Multinomial Naive Bayes Model(MNB) model with the best parameters"
   ]
  },
  {
   "cell_type": "code",
   "execution_count": 56,
   "id": "16f8f03d",
   "metadata": {},
   "outputs": [
    {
     "data": {
      "text/plain": [
       "{'cvec__max_df': 0.8,\n",
       " 'cvec__max_features': None,\n",
       " 'cvec__min_df': 1,\n",
       " 'cvec__ngram_range': (1, 2),\n",
       " 'cvec__stop_words': None,\n",
       " 'nb__alpha': 1.6142857142857143,\n",
       " 'nb__fit_prior': True}"
      ]
     },
     "execution_count": 56,
     "metadata": {},
     "output_type": "execute_result"
    }
   ],
   "source": [
    "# recap on MNB best params\n",
    "gs_nb.best_params_"
   ]
  },
  {
   "cell_type": "code",
   "execution_count": 57,
   "id": "8bd6335c",
   "metadata": {},
   "outputs": [],
   "source": [
    "# create a pipeline with the best parameters\n",
    "best_nb = Pipeline([\n",
    "    ('cvec', CountVectorizer(max_df=0.8, max_features=None, min_df=1, # instantiate CountVectorizer\n",
    "                             ngram_range=(1,2), stop_words=None)),\n",
    "    ('mnb', MultinomialNB(alpha=1.6142857142857143, fit_prior=True)) # instantiate MNB\n",
    "])"
   ]
  },
  {
   "cell_type": "code",
   "execution_count": 58,
   "id": "bff7ee98",
   "metadata": {},
   "outputs": [
    {
     "name": "stdout",
     "output_type": "stream",
     "text": [
      "MNB test ACCURACY: 0.7908\n",
      "MNB test RECALL: 0.8184\n",
      "MNB test PRECISION: 0.775587566338135\n",
      "MNB test f1 SCORE: 0.7964188400155703\n"
     ]
    }
   ],
   "source": [
    "best_nb_model = best_nb.fit(X_train, y_train)\n",
    "best_nb_preds = best_nb_model.predict(X_test)\n",
    "print(f'MNB test ACCURACY: {best_nb_model.score(X_test, y_test)}')\n",
    "print(f'MNB test RECALL: {recall_score(y_test, best_nb_preds)}')\n",
    "print(f'MNB test PRECISION: {precision_score(y_test, best_nb_preds)}')\n",
    "print(f'MNB test f1 SCORE: {f1_score(y_test, best_nb_preds)}')"
   ]
  },
  {
   "cell_type": "markdown",
   "id": "86e588da",
   "metadata": {},
   "source": [
    "The metrics of the recreated MNB model match that of the hyperparamter tuned model. We can now proceed to plot the ROC curve."
   ]
  },
  {
   "cell_type": "code",
   "execution_count": 59,
   "id": "c24df123",
   "metadata": {},
   "outputs": [
    {
     "data": {
      "image/png": "[encoded data removed]",
      "text/plain": [
       "<Figure size 432x288 with 1 Axes>"
      ]
     },
     "metadata": {
      "needs_background": "light"
     },
     "output_type": "display_data"
    }
   ],
   "source": [
    "plot_roc_curve(best_nb, X_test, y_test)\n",
    "plt.plot([0, 1], [0, 1],\n",
    "         label='baseline', linestyle='--') # to simulate random guess \n",
    "plt.legend();"
   ]
  },
  {
   "cell_type": "markdown",
   "id": "0d3e85c9",
   "metadata": {},
   "source": [
    "For a typical ROC curve, if AUC is **0.5**, the positive and negative populations overlap perfectly, and the model is as bad as can get, which is represented by the baseline. If the AUC is **1**, the positive and negative populations are perfectly separated, thus showing that the model is as good as it can get.\n",
    "\n",
    "The ROC plot for the reccomended MNB model shows a fairly smooth curve with an AUC of **0.88** the model is a 88% chance that the model can distinguish between a post from TheOnion and nottheonion.\n",
    "\n",
    "The optimal classification threshold is around 0.8, where we can maximise the true positives while keeping false positive rate at a manageable level. \n",
    "\n",
    "Lastly, this AUC of **0.88** which is relatively close to the maximum score of **1.0**. We can thus conclude that this model performs well!\n",
    "\n",
    "An AUC between 0.8 - 0.9 is generally considered as 'excellent'<sup>2</sup> in the industry."
   ]
  },
  {
   "cell_type": "markdown",
   "id": "7b9a3685",
   "metadata": {},
   "source": [
    "### True Positives vs False Positives & True Negatives vs False Negatives in recommended MNB model"
   ]
  },
  {
   "cell_type": "code",
   "execution_count": 60,
   "id": "78b8af10",
   "metadata": {},
   "outputs": [
    {
     "data": {
      "text/html": [
       "<div>\n",
       "<style scoped>\n",
       "    .dataframe tbody tr th:only-of-type {\n",
       "        vertical-align: middle;\n",
       "    }\n",
       "\n",
       "    .dataframe tbody tr th {\n",
       "        vertical-align: top;\n",
       "    }\n",
       "\n",
       "    .dataframe thead th {\n",
       "        text-align: right;\n",
       "    }\n",
       "</style>\n",
       "<table border=\"1\" class=\"dataframe\">\n",
       "  <thead>\n",
       "    <tr style=\"text-align: right;\">\n",
       "      <th></th>\n",
       "      <th>preds</th>\n",
       "    </tr>\n",
       "  </thead>\n",
       "  <tbody>\n",
       "    <tr>\n",
       "      <th>0</th>\n",
       "      <td>1</td>\n",
       "    </tr>\n",
       "    <tr>\n",
       "      <th>1</th>\n",
       "      <td>1</td>\n",
       "    </tr>\n",
       "    <tr>\n",
       "      <th>2</th>\n",
       "      <td>0</td>\n",
       "    </tr>\n",
       "    <tr>\n",
       "      <th>3</th>\n",
       "      <td>1</td>\n",
       "    </tr>\n",
       "    <tr>\n",
       "      <th>4</th>\n",
       "      <td>1</td>\n",
       "    </tr>\n",
       "  </tbody>\n",
       "</table>\n",
       "</div>"
      ],
      "text/plain": [
       "   preds\n",
       "0      1\n",
       "1      1\n",
       "2      0\n",
       "3      1\n",
       "4      1"
      ]
     },
     "execution_count": 60,
     "metadata": {},
     "output_type": "execute_result"
    }
   ],
   "source": [
    "pred_nb = best_nb.predict(X_test)\n",
    "pred_nb_df = pd.DataFrame(pred_nb, columns=['preds']) # convert to dataframe for easy concatication\n",
    "pred_nb_df.head()"
   ]
  },
  {
   "cell_type": "code",
   "execution_count": 61,
   "id": "c8096338",
   "metadata": {},
   "outputs": [
    {
     "name": "stdout",
     "output_type": "stream",
     "text": [
      "True Negatives:954\n",
      "False Positives:296\n",
      "False Negatives:227\n",
      "True Positives:1023\n"
     ]
    },
    {
     "data": {
      "image/png": "[encoded data removed]",
      "text/plain": [
       "<Figure size 432x288 with 2 Axes>"
      ]
     },
     "metadata": {
      "needs_background": "light"
     },
     "output_type": "display_data"
    }
   ],
   "source": [
    "# Save confusion matrix values\n",
    "tn, fp, fn, tp = confusion_matrix(y_test, pred_nb).ravel()\n",
    "print(f'True Negatives:{tn}\\nFalse Positives:{fp}\\nFalse Negatives:{fn}\\nTrue Positives:{tp}')\n",
    "\n",
    "# plot confusion matrix\n",
    "plot_confusion_matrix(best_nb, X_test, y_test, cmap='Greens', values_format='d');"
   ]
  },
  {
   "cell_type": "code",
   "execution_count": 62,
   "id": "ee031ff4",
   "metadata": {},
   "outputs": [
    {
     "name": "stdout",
     "output_type": "stream",
     "text": [
      "(2500, 3)\n"
     ]
    },
    {
     "data": {
      "text/html": [
       "<div>\n",
       "<style scoped>\n",
       "    .dataframe tbody tr th:only-of-type {\n",
       "        vertical-align: middle;\n",
       "    }\n",
       "\n",
       "    .dataframe tbody tr th {\n",
       "        vertical-align: top;\n",
       "    }\n",
       "\n",
       "    .dataframe thead th {\n",
       "        text-align: right;\n",
       "    }\n",
       "</style>\n",
       "<table border=\"1\" class=\"dataframe\">\n",
       "  <thead>\n",
       "    <tr style=\"text-align: right;\">\n",
       "      <th></th>\n",
       "      <th>new_text</th>\n",
       "      <th>onion</th>\n",
       "      <th>preds</th>\n",
       "    </tr>\n",
       "  </thead>\n",
       "  <tbody>\n",
       "    <tr>\n",
       "      <th>0</th>\n",
       "      <td>why liberal white woman pay a lot of money to ...</td>\n",
       "      <td>0</td>\n",
       "      <td>1</td>\n",
       "    </tr>\n",
       "    <tr>\n",
       "      <th>1</th>\n",
       "      <td>goose thinking of migrating home a couple week...</td>\n",
       "      <td>1</td>\n",
       "      <td>1</td>\n",
       "    </tr>\n",
       "    <tr>\n",
       "      <th>2</th>\n",
       "      <td>hitman hire hitman who hire hitman who hire hi...</td>\n",
       "      <td>0</td>\n",
       "      <td>0</td>\n",
       "    </tr>\n",
       "    <tr>\n",
       "      <th>3</th>\n",
       "      <td>5 amber alert that were sent out that were cle...</td>\n",
       "      <td>1</td>\n",
       "      <td>1</td>\n",
       "    </tr>\n",
       "    <tr>\n",
       "      <th>4</th>\n",
       "      <td>sequel to original ghostbusters being made</td>\n",
       "      <td>1</td>\n",
       "      <td>1</td>\n",
       "    </tr>\n",
       "  </tbody>\n",
       "</table>\n",
       "</div>"
      ],
      "text/plain": [
       "                                            new_text  onion  preds\n",
       "0  why liberal white woman pay a lot of money to ...      0      1\n",
       "1  goose thinking of migrating home a couple week...      1      1\n",
       "2  hitman hire hitman who hire hitman who hire hi...      0      0\n",
       "3  5 amber alert that were sent out that were cle...      1      1\n",
       "4         sequel to original ghostbusters being made      1      1"
      ]
     },
     "execution_count": 62,
     "metadata": {},
     "output_type": "execute_result"
    }
   ],
   "source": [
    "# concatinate the X_test and the predictions\n",
    "pred_vs_actual_nb = pd.concat([pd.DataFrame(X_test).reset_index(drop=True), pd.DataFrame(y_test).reset_index(drop=True), pred_nb_df], axis=1)\n",
    "print(pred_vs_actual_nb.shape)\n",
    "pred_vs_actual_nb.head()"
   ]
  },
  {
   "cell_type": "code",
   "execution_count": 63,
   "id": "c3985e44",
   "metadata": {},
   "outputs": [
    {
     "name": "stdout",
     "output_type": "stream",
     "text": [
      "(1023, 3)\n"
     ]
    },
    {
     "data": {
      "text/html": [
       "<div>\n",
       "<style scoped>\n",
       "    .dataframe tbody tr th:only-of-type {\n",
       "        vertical-align: middle;\n",
       "    }\n",
       "\n",
       "    .dataframe tbody tr th {\n",
       "        vertical-align: top;\n",
       "    }\n",
       "\n",
       "    .dataframe thead th {\n",
       "        text-align: right;\n",
       "    }\n",
       "</style>\n",
       "<table border=\"1\" class=\"dataframe\">\n",
       "  <thead>\n",
       "    <tr style=\"text-align: right;\">\n",
       "      <th></th>\n",
       "      <th>new_text</th>\n",
       "      <th>onion</th>\n",
       "      <th>preds</th>\n",
       "    </tr>\n",
       "  </thead>\n",
       "  <tbody>\n",
       "    <tr>\n",
       "      <th>1</th>\n",
       "      <td>goose thinking of migrating home a couple week...</td>\n",
       "      <td>1</td>\n",
       "      <td>1</td>\n",
       "    </tr>\n",
       "    <tr>\n",
       "      <th>3</th>\n",
       "      <td>5 amber alert that were sent out that were cle...</td>\n",
       "      <td>1</td>\n",
       "      <td>1</td>\n",
       "    </tr>\n",
       "    <tr>\n",
       "      <th>4</th>\n",
       "      <td>sequel to original ghostbusters being made</td>\n",
       "      <td>1</td>\n",
       "      <td>1</td>\n",
       "    </tr>\n",
       "    <tr>\n",
       "      <th>10</th>\n",
       "      <td>dishwasher think he s mentoring younger dishwa...</td>\n",
       "      <td>1</td>\n",
       "      <td>1</td>\n",
       "    </tr>\n",
       "    <tr>\n",
       "      <th>13</th>\n",
       "      <td>new york time announces new columnist will con...</td>\n",
       "      <td>1</td>\n",
       "      <td>1</td>\n",
       "    </tr>\n",
       "  </tbody>\n",
       "</table>\n",
       "</div>"
      ],
      "text/plain": [
       "                                             new_text  onion  preds\n",
       "1   goose thinking of migrating home a couple week...      1      1\n",
       "3   5 amber alert that were sent out that were cle...      1      1\n",
       "4          sequel to original ghostbusters being made      1      1\n",
       "10  dishwasher think he s mentoring younger dishwa...      1      1\n",
       "13  new york time announces new columnist will con...      1      1"
      ]
     },
     "execution_count": 63,
     "metadata": {},
     "output_type": "execute_result"
    }
   ],
   "source": [
    "# get the true positives\n",
    "# true positives are 1 in both onion and preds column\n",
    "true_positive_nb = pred_vs_actual_nb[(pred_vs_actual_nb.onion==1)&(pred_vs_actual_nb.preds==1)]\n",
    "print(true_positive_nb.shape)\n",
    "true_positive_nb.head()"
   ]
  },
  {
   "cell_type": "code",
   "execution_count": 64,
   "id": "68511358",
   "metadata": {},
   "outputs": [
    {
     "name": "stdout",
     "output_type": "stream",
     "text": [
      "(954, 3)\n"
     ]
    },
    {
     "data": {
      "text/html": [
       "<div>\n",
       "<style scoped>\n",
       "    .dataframe tbody tr th:only-of-type {\n",
       "        vertical-align: middle;\n",
       "    }\n",
       "\n",
       "    .dataframe tbody tr th {\n",
       "        vertical-align: top;\n",
       "    }\n",
       "\n",
       "    .dataframe thead th {\n",
       "        text-align: right;\n",
       "    }\n",
       "</style>\n",
       "<table border=\"1\" class=\"dataframe\">\n",
       "  <thead>\n",
       "    <tr style=\"text-align: right;\">\n",
       "      <th></th>\n",
       "      <th>new_text</th>\n",
       "      <th>onion</th>\n",
       "      <th>preds</th>\n",
       "    </tr>\n",
       "  </thead>\n",
       "  <tbody>\n",
       "    <tr>\n",
       "      <th>2</th>\n",
       "      <td>hitman hire hitman who hire hitman who hire hi...</td>\n",
       "      <td>0</td>\n",
       "      <td>0</td>\n",
       "    </tr>\n",
       "    <tr>\n",
       "      <th>5</th>\n",
       "      <td>the dea may have botched a cartel case over sl...</td>\n",
       "      <td>0</td>\n",
       "      <td>0</td>\n",
       "    </tr>\n",
       "    <tr>\n",
       "      <th>6</th>\n",
       "      <td>hangover cure the only way to avoid suffering ...</td>\n",
       "      <td>0</td>\n",
       "      <td>0</td>\n",
       "    </tr>\n",
       "    <tr>\n",
       "      <th>7</th>\n",
       "      <td>billionaire investor bill gross ordered to sto...</td>\n",
       "      <td>0</td>\n",
       "      <td>0</td>\n",
       "    </tr>\n",
       "    <tr>\n",
       "      <th>8</th>\n",
       "      <td>lady gaga offer 500 000 for return of dog afte...</td>\n",
       "      <td>0</td>\n",
       "      <td>0</td>\n",
       "    </tr>\n",
       "  </tbody>\n",
       "</table>\n",
       "</div>"
      ],
      "text/plain": [
       "                                            new_text  onion  preds\n",
       "2  hitman hire hitman who hire hitman who hire hi...      0      0\n",
       "5  the dea may have botched a cartel case over sl...      0      0\n",
       "6  hangover cure the only way to avoid suffering ...      0      0\n",
       "7  billionaire investor bill gross ordered to sto...      0      0\n",
       "8  lady gaga offer 500 000 for return of dog afte...      0      0"
      ]
     },
     "execution_count": 64,
     "metadata": {},
     "output_type": "execute_result"
    }
   ],
   "source": [
    "# get the true negatives\n",
    "# true negatives are 0 in both onion and preds column\n",
    "true_negative_nb = pred_vs_actual_nb[(pred_vs_actual_nb.onion==0)&(pred_vs_actual_nb.preds==0)]\n",
    "print(true_negative_nb.shape)\n",
    "true_negative_nb.head()"
   ]
  },
  {
   "cell_type": "code",
   "execution_count": 65,
   "id": "af8c7853",
   "metadata": {},
   "outputs": [
    {
     "name": "stdout",
     "output_type": "stream",
     "text": [
      "(296, 3)\n"
     ]
    },
    {
     "data": {
      "text/html": [
       "<div>\n",
       "<style scoped>\n",
       "    .dataframe tbody tr th:only-of-type {\n",
       "        vertical-align: middle;\n",
       "    }\n",
       "\n",
       "    .dataframe tbody tr th {\n",
       "        vertical-align: top;\n",
       "    }\n",
       "\n",
       "    .dataframe thead th {\n",
       "        text-align: right;\n",
       "    }\n",
       "</style>\n",
       "<table border=\"1\" class=\"dataframe\">\n",
       "  <thead>\n",
       "    <tr style=\"text-align: right;\">\n",
       "      <th></th>\n",
       "      <th>new_text</th>\n",
       "      <th>onion</th>\n",
       "      <th>preds</th>\n",
       "    </tr>\n",
       "  </thead>\n",
       "  <tbody>\n",
       "    <tr>\n",
       "      <th>0</th>\n",
       "      <td>why liberal white woman pay a lot of money to ...</td>\n",
       "      <td>0</td>\n",
       "      <td>1</td>\n",
       "    </tr>\n",
       "    <tr>\n",
       "      <th>9</th>\n",
       "      <td>sadly marine are probably never going to space</td>\n",
       "      <td>0</td>\n",
       "      <td>1</td>\n",
       "    </tr>\n",
       "    <tr>\n",
       "      <th>15</th>\n",
       "      <td>amazon worker are listening to what you tell a...</td>\n",
       "      <td>0</td>\n",
       "      <td>1</td>\n",
       "    </tr>\n",
       "    <tr>\n",
       "      <th>23</th>\n",
       "      <td>column larry elder is the black face of white ...</td>\n",
       "      <td>0</td>\n",
       "      <td>1</td>\n",
       "    </tr>\n",
       "    <tr>\n",
       "      <th>33</th>\n",
       "      <td>senate peg tenure of igp to 4 year single term...</td>\n",
       "      <td>0</td>\n",
       "      <td>1</td>\n",
       "    </tr>\n",
       "  </tbody>\n",
       "</table>\n",
       "</div>"
      ],
      "text/plain": [
       "                                             new_text  onion  preds\n",
       "0   why liberal white woman pay a lot of money to ...      0      1\n",
       "9      sadly marine are probably never going to space      0      1\n",
       "15  amazon worker are listening to what you tell a...      0      1\n",
       "23  column larry elder is the black face of white ...      0      1\n",
       "33  senate peg tenure of igp to 4 year single term...      0      1"
      ]
     },
     "execution_count": 65,
     "metadata": {},
     "output_type": "execute_result"
    }
   ],
   "source": [
    "# get the false positives\n",
    "# false positives are 1 in onion and 0 in preds column\n",
    "false_positive_nb = pred_vs_actual_nb[(pred_vs_actual_nb.onion==0)&(pred_vs_actual_nb.preds==1)]\n",
    "print(false_positive_nb.shape)\n",
    "false_positive_nb.head()"
   ]
  },
  {
   "cell_type": "code",
   "execution_count": 66,
   "id": "c2843259",
   "metadata": {},
   "outputs": [
    {
     "name": "stdout",
     "output_type": "stream",
     "text": [
      "(227, 3)\n"
     ]
    },
    {
     "data": {
      "text/html": [
       "<div>\n",
       "<style scoped>\n",
       "    .dataframe tbody tr th:only-of-type {\n",
       "        vertical-align: middle;\n",
       "    }\n",
       "\n",
       "    .dataframe tbody tr th {\n",
       "        vertical-align: top;\n",
       "    }\n",
       "\n",
       "    .dataframe thead th {\n",
       "        text-align: right;\n",
       "    }\n",
       "</style>\n",
       "<table border=\"1\" class=\"dataframe\">\n",
       "  <thead>\n",
       "    <tr style=\"text-align: right;\">\n",
       "      <th></th>\n",
       "      <th>new_text</th>\n",
       "      <th>onion</th>\n",
       "      <th>preds</th>\n",
       "    </tr>\n",
       "  </thead>\n",
       "  <tbody>\n",
       "    <tr>\n",
       "      <th>12</th>\n",
       "      <td>death penalty for spitting on shopping trolley...</td>\n",
       "      <td>1</td>\n",
       "      <td>0</td>\n",
       "    </tr>\n",
       "    <tr>\n",
       "      <th>36</th>\n",
       "      <td>belarus s lukashenko meet opposition in kgb ja...</td>\n",
       "      <td>1</td>\n",
       "      <td>0</td>\n",
       "    </tr>\n",
       "    <tr>\n",
       "      <th>41</th>\n",
       "      <td>woman jealous of horse s eyelash</td>\n",
       "      <td>1</td>\n",
       "      <td>0</td>\n",
       "    </tr>\n",
       "    <tr>\n",
       "      <th>51</th>\n",
       "      <td>justin trudeau explains deep spiritual signifi...</td>\n",
       "      <td>1</td>\n",
       "      <td>0</td>\n",
       "    </tr>\n",
       "    <tr>\n",
       "      <th>56</th>\n",
       "      <td>delhi minister seek cancellation of singapore ...</td>\n",
       "      <td>1</td>\n",
       "      <td>0</td>\n",
       "    </tr>\n",
       "  </tbody>\n",
       "</table>\n",
       "</div>"
      ],
      "text/plain": [
       "                                             new_text  onion  preds\n",
       "12  death penalty for spitting on shopping trolley...      1      0\n",
       "36  belarus s lukashenko meet opposition in kgb ja...      1      0\n",
       "41                   woman jealous of horse s eyelash      1      0\n",
       "51  justin trudeau explains deep spiritual signifi...      1      0\n",
       "56  delhi minister seek cancellation of singapore ...      1      0"
      ]
     },
     "execution_count": 66,
     "metadata": {},
     "output_type": "execute_result"
    }
   ],
   "source": [
    "# get the false negatives\n",
    "# false negatives are 0 in onion and 1 in preds column\n",
    "false_negative_nb = pred_vs_actual_nb[(pred_vs_actual_nb.onion==1)&(pred_vs_actual_nb.preds==0)]\n",
    "print(false_negative_nb.shape)\n",
    "false_negative_nb.head()"
   ]
  },
  {
   "cell_type": "markdown",
   "id": "16fa0f30",
   "metadata": {},
   "source": [
    "To find out why false positives were classifed wrongly, we will look at their top 10 words by frequency and compare it with the top 10 words of the true positives.\n",
    "\n",
    "Similarly, to find out why false negatives were classifed wrongly, we will look at their top 10 words by frequency and compare it with the top 10 words of the true negatives."
   ]
  },
  {
   "cell_type": "markdown",
   "id": "9f721b59",
   "metadata": {},
   "source": [
    "#### Comparison of Top 10 Words in True Positives and False Positives"
   ]
  },
  {
   "cell_type": "code",
   "execution_count": 68,
   "id": "640a168e",
   "metadata": {},
   "outputs": [
    {
     "name": "stdout",
     "output_type": "stream",
     "text": [
      "['to', 'of', 'the', 'in', 'for', 'on', 'with', 'and', 'it', 'this']\n"
     ]
    }
   ],
   "source": [
    "# what are top words in true positive?\n",
    "tp_words = [x for x in dict(pd.DataFrame(best_nb['cvec'].transform(true_positive_nb.new_text).toarray(),\n",
    "             columns=best_nb['cvec'].get_feature_names()).sum().sort_values(ascending=False).head(10))]\n",
    "print(tp_words)"
   ]
  },
  {
   "cell_type": "code",
   "execution_count": 70,
   "id": "a8b8a42d",
   "metadata": {},
   "outputs": [
    {
     "name": "stdout",
     "output_type": "stream",
     "text": [
      "['to', 'the', 'of', 'in', 'for', 'and', 'is', 'on', 'with', 'that']\n"
     ]
    }
   ],
   "source": [
    "# what are top words in false positive?\n",
    "fp_words = [x for x in dict(pd.DataFrame(best_nb['cvec'].transform(false_positive_nb.new_text).toarray(),\n",
    "             columns=best_nb['cvec'].get_feature_names()).sum().sort_values(ascending=False).head(10))]\n",
    "print(fp_words)"
   ]
  },
  {
   "cell_type": "code",
   "execution_count": 71,
   "id": "0e90527b",
   "metadata": {},
   "outputs": [
    {
     "data": {
      "text/plain": [
       "['to', 'the', 'of', 'in', 'for', 'and', 'on', 'with']"
      ]
     },
     "execution_count": 71,
     "metadata": {},
     "output_type": "execute_result"
    }
   ],
   "source": [
    "# what are common top words in true positive and false positive?\n",
    "positive_words = [x for x in fp_words if x in tp_words]\n",
    "positive_words"
   ]
  },
  {
   "cell_type": "markdown",
   "id": "9d52b6fe",
   "metadata": {},
   "source": [
    "Most of these words are stopwords like 'to', 'in', 'of' etc."
   ]
  },
  {
   "cell_type": "markdown",
   "id": "cef344eb",
   "metadata": {},
   "source": [
    "#### Comparison of True Negatives and False Negatives"
   ]
  },
  {
   "cell_type": "code",
   "execution_count": 72,
   "id": "387f1f96",
   "metadata": {},
   "outputs": [
    {
     "name": "stdout",
     "output_type": "stream",
     "text": [
      "['to', 'in', 'for', 'of', 'the', 'after', 'man', 'on', 'and', 'say']\n"
     ]
    }
   ],
   "source": [
    "# what are top words in true negative?\n",
    "tn_words = [x for x in dict(pd.DataFrame(best_nb['cvec'].transform(true_negative_nb.new_text).toarray(),\n",
    "             columns=best_nb['cvec'].get_feature_names()).sum().sort_values(ascending=False).head(10))]\n",
    "print(tn_words)"
   ]
  },
  {
   "cell_type": "code",
   "execution_count": 73,
   "id": "f0603d28",
   "metadata": {},
   "outputs": [
    {
     "name": "stdout",
     "output_type": "stream",
     "text": [
      "['to', 'of', 'in', 'for', 'on', 'the', 'with', 'trump', 'from', 'after']\n"
     ]
    }
   ],
   "source": [
    "# what are top words in false negative?\n",
    "fn_words = [x for x in dict(pd.DataFrame(best_nb['cvec'].transform(false_negative_nb.new_text).toarray(),\n",
    "             columns=best_nb['cvec'].get_feature_names()).sum().sort_values(ascending=False).head(10))]\n",
    "print(fn_words)"
   ]
  },
  {
   "cell_type": "code",
   "execution_count": 74,
   "id": "2bd3e981",
   "metadata": {},
   "outputs": [
    {
     "data": {
      "text/plain": [
       "['to', 'of', 'in', 'for', 'on', 'the', 'after']"
      ]
     },
     "execution_count": 74,
     "metadata": {},
     "output_type": "execute_result"
    }
   ],
   "source": [
    "# what are common top words in true negative and false negative?\n",
    "negative_words = [x for x in fn_words if x in tn_words]\n",
    "negative_words"
   ]
  },
  {
   "cell_type": "markdown",
   "id": "5d277331",
   "metadata": {},
   "source": [
    "Similar to the true vs false positives above, most of these words are stop words.<br>\n",
    "In conclusion, not much meaning can be derived from just looking at the common top words, as most, if not all, happen to be stopwords."
   ]
  },
  {
   "cell_type": "markdown",
   "id": "12abfebb",
   "metadata": {},
   "source": [
    "#### Coefficient Intepretation"
   ]
  },
  {
   "cell_type": "code",
   "execution_count": 90,
   "id": "8174ee63",
   "metadata": {},
   "outputs": [
    {
     "data": {
      "text/plain": [
       "array([-11.3058734 ,  -8.26656882, -10.98197007, ..., -11.3058734 ,\n",
       "       -11.78797174, -11.78797174])"
      ]
     },
     "execution_count": 90,
     "metadata": {},
     "output_type": "execute_result"
    }
   ],
   "source": [
    "nottheonion_importance = best_nb_model['mnb'].feature_log_prob_[0, :]\n",
    "nottheonion_importance"
   ]
  },
  {
   "cell_type": "code",
   "execution_count": 91,
   "id": "7aee6740",
   "metadata": {},
   "outputs": [
    {
     "data": {
      "text/plain": [
       "array([-11.81310773,  -8.42886747, -11.3310094 , ..., -11.81310773,\n",
       "       -11.3310094 , -11.3310094 ])"
      ]
     },
     "execution_count": 91,
     "metadata": {},
     "output_type": "execute_result"
    }
   ],
   "source": [
    "onion_importance = best_nb_model['mnb'].feature_log_prob_[1, :]\n",
    "onion_importance"
   ]
  },
  {
   "cell_type": "code",
   "execution_count": 93,
   "id": "ccf19149",
   "metadata": {},
   "outputs": [
    {
     "name": "stdout",
     "output_type": "stream",
     "text": [
      "(77525, 1)\n"
     ]
    },
    {
     "data": {
      "text/html": [
       "<div>\n",
       "<style scoped>\n",
       "    .dataframe tbody tr th:only-of-type {\n",
       "        vertical-align: middle;\n",
       "    }\n",
       "\n",
       "    .dataframe tbody tr th {\n",
       "        vertical-align: top;\n",
       "    }\n",
       "\n",
       "    .dataframe thead th {\n",
       "        text-align: right;\n",
       "    }\n",
       "</style>\n",
       "<table border=\"1\" class=\"dataframe\">\n",
       "  <thead>\n",
       "    <tr style=\"text-align: right;\">\n",
       "      <th></th>\n",
       "      <th>coefficients</th>\n",
       "    </tr>\n",
       "  </thead>\n",
       "  <tbody>\n",
       "    <tr>\n",
       "      <th>00</th>\n",
       "      <td>-11.305873</td>\n",
       "    </tr>\n",
       "    <tr>\n",
       "      <th>000</th>\n",
       "      <td>-8.266569</td>\n",
       "    </tr>\n",
       "    <tr>\n",
       "      <th>000 000</th>\n",
       "      <td>-10.981970</td>\n",
       "    </tr>\n",
       "    <tr>\n",
       "      <th>000 action</th>\n",
       "      <td>-11.305873</td>\n",
       "    </tr>\n",
       "    <tr>\n",
       "      <th>000 after</th>\n",
       "      <td>-10.737707</td>\n",
       "    </tr>\n",
       "  </tbody>\n",
       "</table>\n",
       "</div>"
      ],
      "text/plain": [
       "            coefficients\n",
       "00            -11.305873\n",
       "000            -8.266569\n",
       "000 000       -10.981970\n",
       "000 action    -11.305873\n",
       "000 after     -10.737707"
      ]
     },
     "execution_count": 93,
     "metadata": {},
     "output_type": "execute_result"
    }
   ],
   "source": [
    "df_features_nottheonion = pd.DataFrame(data=nottheonion_importance, columns=['coefficients'],\n",
    "                                       index=best_nb_model['cvec'].get_feature_names())\n",
    "print(df_features_nottheonion.shape)\n",
    "df_features_nottheonion.head()"
   ]
  },
  {
   "cell_type": "code",
   "execution_count": 94,
   "id": "a85ac708",
   "metadata": {},
   "outputs": [
    {
     "data": {
      "text/html": [
       "<div>\n",
       "<style scoped>\n",
       "    .dataframe tbody tr th:only-of-type {\n",
       "        vertical-align: middle;\n",
       "    }\n",
       "\n",
       "    .dataframe tbody tr th {\n",
       "        vertical-align: top;\n",
       "    }\n",
       "\n",
       "    .dataframe thead th {\n",
       "        text-align: right;\n",
       "    }\n",
       "</style>\n",
       "<table border=\"1\" class=\"dataframe\">\n",
       "  <thead>\n",
       "    <tr style=\"text-align: right;\">\n",
       "      <th></th>\n",
       "      <th>coefficients</th>\n",
       "    </tr>\n",
       "  </thead>\n",
       "  <tbody>\n",
       "    <tr>\n",
       "      <th>to</th>\n",
       "      <td>-4.979568</td>\n",
       "    </tr>\n",
       "    <tr>\n",
       "      <th>in</th>\n",
       "      <td>-5.522082</td>\n",
       "    </tr>\n",
       "    <tr>\n",
       "      <th>of</th>\n",
       "      <td>-5.619676</td>\n",
       "    </tr>\n",
       "    <tr>\n",
       "      <th>the</th>\n",
       "      <td>-5.658035</td>\n",
       "    </tr>\n",
       "    <tr>\n",
       "      <th>for</th>\n",
       "      <td>-5.775209</td>\n",
       "    </tr>\n",
       "    <tr>\n",
       "      <th>on</th>\n",
       "      <td>-6.169657</td>\n",
       "    </tr>\n",
       "    <tr>\n",
       "      <th>and</th>\n",
       "      <td>-6.227528</td>\n",
       "    </tr>\n",
       "    <tr>\n",
       "      <th>after</th>\n",
       "      <td>-6.319837</td>\n",
       "    </tr>\n",
       "    <tr>\n",
       "      <th>with</th>\n",
       "      <td>-6.381832</td>\n",
       "    </tr>\n",
       "    <tr>\n",
       "      <th>man</th>\n",
       "      <td>-6.465912</td>\n",
       "    </tr>\n",
       "  </tbody>\n",
       "</table>\n",
       "</div>"
      ],
      "text/plain": [
       "       coefficients\n",
       "to        -4.979568\n",
       "in        -5.522082\n",
       "of        -5.619676\n",
       "the       -5.658035\n",
       "for       -5.775209\n",
       "on        -6.169657\n",
       "and       -6.227528\n",
       "after     -6.319837\n",
       "with      -6.381832\n",
       "man       -6.465912"
      ]
     },
     "execution_count": 94,
     "metadata": {},
     "output_type": "execute_result"
    }
   ],
   "source": [
    "df_features_nottheonion.sort_values(by='coefficients', ascending=False).head(10)"
   ]
  },
  {
   "cell_type": "markdown",
   "id": "ae1497ee",
   "metadata": {},
   "source": [
    "Most of the words that predict nottheonion well are stop words, save for 'man'. Thus not much meaning can be derived from this."
   ]
  },
  {
   "cell_type": "code",
   "execution_count": 95,
   "id": "b36ed9ca",
   "metadata": {},
   "outputs": [
    {
     "name": "stdout",
     "output_type": "stream",
     "text": [
      "(77525, 1)\n"
     ]
    },
    {
     "data": {
      "text/html": [
       "<div>\n",
       "<style scoped>\n",
       "    .dataframe tbody tr th:only-of-type {\n",
       "        vertical-align: middle;\n",
       "    }\n",
       "\n",
       "    .dataframe tbody tr th {\n",
       "        vertical-align: top;\n",
       "    }\n",
       "\n",
       "    .dataframe thead th {\n",
       "        text-align: right;\n",
       "    }\n",
       "</style>\n",
       "<table border=\"1\" class=\"dataframe\">\n",
       "  <thead>\n",
       "    <tr style=\"text-align: right;\">\n",
       "      <th></th>\n",
       "      <th>coefficients</th>\n",
       "    </tr>\n",
       "  </thead>\n",
       "  <tbody>\n",
       "    <tr>\n",
       "      <th>00</th>\n",
       "      <td>-11.813108</td>\n",
       "    </tr>\n",
       "    <tr>\n",
       "      <th>000</th>\n",
       "      <td>-8.428867</td>\n",
       "    </tr>\n",
       "    <tr>\n",
       "      <th>000 000</th>\n",
       "      <td>-11.331009</td>\n",
       "    </tr>\n",
       "    <tr>\n",
       "      <th>000 action</th>\n",
       "      <td>-11.813108</td>\n",
       "    </tr>\n",
       "    <tr>\n",
       "      <th>000 after</th>\n",
       "      <td>-11.813108</td>\n",
       "    </tr>\n",
       "  </tbody>\n",
       "</table>\n",
       "</div>"
      ],
      "text/plain": [
       "            coefficients\n",
       "00            -11.813108\n",
       "000            -8.428867\n",
       "000 000       -11.331009\n",
       "000 action    -11.813108\n",
       "000 after     -11.813108"
      ]
     },
     "execution_count": 95,
     "metadata": {},
     "output_type": "execute_result"
    }
   ],
   "source": [
    "df_features_theonion = pd.DataFrame(data=onion_importance, columns=['coefficients'],\n",
    "                                       index=best_nb_model['cvec'].get_feature_names())\n",
    "print(df_features_theonion.shape)\n",
    "df_features_theonion.head()"
   ]
  },
  {
   "cell_type": "code",
   "execution_count": 96,
   "id": "4463ede9",
   "metadata": {},
   "outputs": [
    {
     "data": {
      "text/html": [
       "<div>\n",
       "<style scoped>\n",
       "    .dataframe tbody tr th:only-of-type {\n",
       "        vertical-align: middle;\n",
       "    }\n",
       "\n",
       "    .dataframe tbody tr th {\n",
       "        vertical-align: top;\n",
       "    }\n",
       "\n",
       "    .dataframe thead th {\n",
       "        text-align: right;\n",
       "    }\n",
       "</style>\n",
       "<table border=\"1\" class=\"dataframe\">\n",
       "  <thead>\n",
       "    <tr style=\"text-align: right;\">\n",
       "      <th></th>\n",
       "      <th>coefficients</th>\n",
       "    </tr>\n",
       "  </thead>\n",
       "  <tbody>\n",
       "    <tr>\n",
       "      <th>to</th>\n",
       "      <td>-4.863896</td>\n",
       "    </tr>\n",
       "    <tr>\n",
       "      <th>of</th>\n",
       "      <td>-5.267695</td>\n",
       "    </tr>\n",
       "    <tr>\n",
       "      <th>the</th>\n",
       "      <td>-5.644812</td>\n",
       "    </tr>\n",
       "    <tr>\n",
       "      <th>in</th>\n",
       "      <td>-5.723060</td>\n",
       "    </tr>\n",
       "    <tr>\n",
       "      <th>for</th>\n",
       "      <td>-5.954088</td>\n",
       "    </tr>\n",
       "    <tr>\n",
       "      <th>on</th>\n",
       "      <td>-6.309036</td>\n",
       "    </tr>\n",
       "    <tr>\n",
       "      <th>and</th>\n",
       "      <td>-6.485017</td>\n",
       "    </tr>\n",
       "    <tr>\n",
       "      <th>with</th>\n",
       "      <td>-6.500163</td>\n",
       "    </tr>\n",
       "    <tr>\n",
       "      <th>new</th>\n",
       "      <td>-6.669376</td>\n",
       "    </tr>\n",
       "    <tr>\n",
       "      <th>by</th>\n",
       "      <td>-6.672998</td>\n",
       "    </tr>\n",
       "  </tbody>\n",
       "</table>\n",
       "</div>"
      ],
      "text/plain": [
       "      coefficients\n",
       "to       -4.863896\n",
       "of       -5.267695\n",
       "the      -5.644812\n",
       "in       -5.723060\n",
       "for      -5.954088\n",
       "on       -6.309036\n",
       "and      -6.485017\n",
       "with     -6.500163\n",
       "new      -6.669376\n",
       "by       -6.672998"
      ]
     },
     "execution_count": 96,
     "metadata": {},
     "output_type": "execute_result"
    }
   ],
   "source": [
    "df_features_theonion.sort_values(by='coefficients', ascending=False).head(10)"
   ]
  },
  {
   "cell_type": "markdown",
   "id": "9e53de99",
   "metadata": {},
   "source": [
    "Similar to the coefficients above, most of the words that predict nottheonion well are stop words, save for 'new'. Thus not much meaning can be derived from this."
   ]
  },
  {
   "cell_type": "markdown",
   "id": "2624db62",
   "metadata": {},
   "source": [
    "In conclusion, not much meaning can be derived from just looking at the common top words, as most, if not all, happen to be stopwords. This shows the extent of the 'blackboxness' of MNB, and why we still need to look at logistic regression for intepretability.\n",
    "\n",
    "We can use the interpretability of the logistic regression model to study coefficients of the various features and see which words had the strongest impact on classification."
   ]
  },
  {
   "cell_type": "markdown",
   "id": "8113a4f7",
   "metadata": {},
   "source": [
    "### Logistic Regression Coefficients\n",
    "\n",
    "To study the coefficients, we will need to recreate the Logistic Regression model with the best parameters.\n",
    "\n",
    "A quick recap on the best parameters."
   ]
  },
  {
   "cell_type": "code",
   "execution_count": 97,
   "id": "77f46861",
   "metadata": {
    "scrolled": false
   },
   "outputs": [
    {
     "data": {
      "text/plain": [
       "{'cvec__max_df': 0.8,\n",
       " 'cvec__max_features': None,\n",
       " 'cvec__min_df': 1,\n",
       " 'cvec__ngram_range': (1, 2),\n",
       " 'cvec__stop_words': None,\n",
       " 'log__max_iter': 100,\n",
       " 'log__penalty': 'l2',\n",
       " 'log__random_state': 42}"
      ]
     },
     "execution_count": 97,
     "metadata": {},
     "output_type": "execute_result"
    }
   ],
   "source": [
    "gs_log.best_params_"
   ]
  },
  {
   "cell_type": "code",
   "execution_count": 98,
   "id": "083b7e1c",
   "metadata": {},
   "outputs": [],
   "source": [
    "# Instantiate the TfidfVectorizer with best parameters\n",
    "cvec_log = CountVectorizer(max_df=0.8, max_features=None, min_df=1, ngram_range=(1,2), stop_words=None)"
   ]
  },
  {
   "cell_type": "code",
   "execution_count": 99,
   "id": "a7361b6c",
   "metadata": {},
   "outputs": [],
   "source": [
    "# fit_transform the training data and trainsform the test data\n",
    "Z_train = cvec_log.fit_transform(X_train)\n",
    "Z_test = cvec_log.transform(X_test)"
   ]
  },
  {
   "cell_type": "code",
   "execution_count": 100,
   "id": "fc332c52",
   "metadata": {},
   "outputs": [],
   "source": [
    "# Instantiate the LogisticRegression with best parameters\n",
    "log_best = LogisticRegression(max_iter=100, random_state=42, penalty='l2')"
   ]
  },
  {
   "cell_type": "code",
   "execution_count": 101,
   "id": "14f67b71",
   "metadata": {},
   "outputs": [
    {
     "name": "stdout",
     "output_type": "stream",
     "text": [
      "Train accuracy is 0.9997333333333334\n",
      "Test accuracy is 0.7852\n"
     ]
    }
   ],
   "source": [
    "# fit the train data, and get the accuracy scores\n",
    "log_best.fit(Z_train, y_train)\n",
    "print(f'Train accuracy is {log_best.score(Z_train, y_train)}')\n",
    "print(f'Test accuracy is {log_best.score(Z_test, y_test)}')"
   ]
  },
  {
   "cell_type": "code",
   "execution_count": 102,
   "id": "a26c25e8",
   "metadata": {},
   "outputs": [
    {
     "name": "stdout",
     "output_type": "stream",
     "text": [
      "LogisticRegression test RECALL: 0.78\n",
      "LogisticRegression test PRECISION: 0.788197251414713\n",
      "LogisticRegression test f1 SCORE: 0.7840772014475271\n"
     ]
    }
   ],
   "source": [
    "# get the other metrics\n",
    "print(f'LogisticRegression test RECALL: {recall_score(y_test, log_best.predict(Z_test))}')\n",
    "print(f'LogisticRegression test PRECISION: {precision_score(y_test, log_best.predict(Z_test))}')\n",
    "print(f'LogisticRegression test f1 SCORE: {f1_score(y_test, log_best.predict(Z_test))}')"
   ]
  },
  {
   "cell_type": "markdown",
   "id": "b5d9ddef",
   "metadata": {},
   "source": [
    "The metrics for recreated Logistic Regression model match that of the hyperparamter tuned model. We can now start interpretating the coefficients.\n",
    "\n",
    "The coefficents of the Logistic Regression are the Log(Odds Ratio)<sup>3</sup> of determining the positive class (TheOnion)."
   ]
  },
  {
   "cell_type": "code",
   "execution_count": 103,
   "id": "3acdd4d5",
   "metadata": {},
   "outputs": [],
   "source": [
    "# creating index of feature names\n",
    "index_log = cvec_log.get_feature_names()"
   ]
  },
  {
   "cell_type": "code",
   "execution_count": 104,
   "id": "a1434238",
   "metadata": {},
   "outputs": [],
   "source": [
    "# construct a dataframe of feature names and their respective coefficients\n",
    "log_coef_df = pd.DataFrame(log_best.coef_[0],\n",
    "                         columns=[\"coefficient\"],\n",
    "                         index=index_log)"
   ]
  },
  {
   "cell_type": "code",
   "execution_count": 105,
   "id": "7f1eecdf",
   "metadata": {},
   "outputs": [
    {
     "data": {
      "text/html": [
       "<div>\n",
       "<style scoped>\n",
       "    .dataframe tbody tr th:only-of-type {\n",
       "        vertical-align: middle;\n",
       "    }\n",
       "\n",
       "    .dataframe tbody tr th {\n",
       "        vertical-align: top;\n",
       "    }\n",
       "\n",
       "    .dataframe thead th {\n",
       "        text-align: right;\n",
       "    }\n",
       "</style>\n",
       "<table border=\"1\" class=\"dataframe\">\n",
       "  <thead>\n",
       "    <tr style=\"text-align: right;\">\n",
       "      <th></th>\n",
       "      <th>coefficient</th>\n",
       "    </tr>\n",
       "  </thead>\n",
       "  <tbody>\n",
       "    <tr>\n",
       "      <th>said what</th>\n",
       "      <td>1.566929</td>\n",
       "    </tr>\n",
       "    <tr>\n",
       "      <th>nation</th>\n",
       "      <td>1.549186</td>\n",
       "    </tr>\n",
       "    <tr>\n",
       "      <th>way</th>\n",
       "      <td>1.547807</td>\n",
       "    </tr>\n",
       "    <tr>\n",
       "      <th>announces</th>\n",
       "      <td>1.432677</td>\n",
       "    </tr>\n",
       "    <tr>\n",
       "      <th>shit</th>\n",
       "      <td>1.380316</td>\n",
       "    </tr>\n",
       "    <tr>\n",
       "      <th>all</th>\n",
       "      <td>1.370246</td>\n",
       "    </tr>\n",
       "    <tr>\n",
       "      <th>congress</th>\n",
       "      <td>1.303354</td>\n",
       "    </tr>\n",
       "    <tr>\n",
       "      <th>fucking</th>\n",
       "      <td>1.278267</td>\n",
       "    </tr>\n",
       "    <tr>\n",
       "      <th>self</th>\n",
       "      <td>1.227514</td>\n",
       "    </tr>\n",
       "    <tr>\n",
       "      <th>this</th>\n",
       "      <td>1.218810</td>\n",
       "    </tr>\n",
       "  </tbody>\n",
       "</table>\n",
       "</div>"
      ],
      "text/plain": [
       "           coefficient\n",
       "said what     1.566929\n",
       "nation        1.549186\n",
       "way           1.547807\n",
       "announces     1.432677\n",
       "shit          1.380316\n",
       "all           1.370246\n",
       "congress      1.303354\n",
       "fucking       1.278267\n",
       "self          1.227514\n",
       "this          1.218810"
      ]
     },
     "execution_count": 105,
     "metadata": {},
     "output_type": "execute_result"
    }
   ],
   "source": [
    "# Top 5 words/ngrams\n",
    "\n",
    "log_coef_df.sort_values(by='coefficient', ascending=False).head(10)"
   ]
  },
  {
   "cell_type": "code",
   "execution_count": 106,
   "id": "af49e65c",
   "metadata": {},
   "outputs": [
    {
     "data": {
      "text/html": [
       "<div>\n",
       "<style scoped>\n",
       "    .dataframe tbody tr th:only-of-type {\n",
       "        vertical-align: middle;\n",
       "    }\n",
       "\n",
       "    .dataframe tbody tr th {\n",
       "        vertical-align: top;\n",
       "    }\n",
       "\n",
       "    .dataframe thead th {\n",
       "        text-align: right;\n",
       "    }\n",
       "</style>\n",
       "<table border=\"1\" class=\"dataframe\">\n",
       "  <thead>\n",
       "    <tr style=\"text-align: right;\">\n",
       "      <th></th>\n",
       "      <th>coefficient</th>\n",
       "    </tr>\n",
       "  </thead>\n",
       "  <tbody>\n",
       "    <tr>\n",
       "      <th>say he</th>\n",
       "      <td>-1.240334</td>\n",
       "    </tr>\n",
       "    <tr>\n",
       "      <th>this is</th>\n",
       "      <td>-1.248961</td>\n",
       "    </tr>\n",
       "    <tr>\n",
       "      <th>accused</th>\n",
       "      <td>-1.261092</td>\n",
       "    </tr>\n",
       "    <tr>\n",
       "      <th>florida</th>\n",
       "      <td>-1.262506</td>\n",
       "    </tr>\n",
       "    <tr>\n",
       "      <th>snake</th>\n",
       "      <td>-1.284463</td>\n",
       "    </tr>\n",
       "    <tr>\n",
       "      <th>chicken</th>\n",
       "      <td>-1.286658</td>\n",
       "    </tr>\n",
       "    <tr>\n",
       "      <th>uk</th>\n",
       "      <td>-1.315480</td>\n",
       "    </tr>\n",
       "    <tr>\n",
       "      <th>are</th>\n",
       "      <td>-1.324158</td>\n",
       "    </tr>\n",
       "    <tr>\n",
       "      <th>toilet</th>\n",
       "      <td>-1.358766</td>\n",
       "    </tr>\n",
       "    <tr>\n",
       "      <th>police</th>\n",
       "      <td>-1.405872</td>\n",
       "    </tr>\n",
       "  </tbody>\n",
       "</table>\n",
       "</div>"
      ],
      "text/plain": [
       "         coefficient\n",
       "say he     -1.240334\n",
       "this is    -1.248961\n",
       "accused    -1.261092\n",
       "florida    -1.262506\n",
       "snake      -1.284463\n",
       "chicken    -1.286658\n",
       "uk         -1.315480\n",
       "are        -1.324158\n",
       "toilet     -1.358766\n",
       "police     -1.405872"
      ]
     },
     "execution_count": 106,
     "metadata": {},
     "output_type": "execute_result"
    }
   ],
   "source": [
    "# Bottom 5 words/ngrams\n",
    "log_coef_df.sort_values(by='coefficient', ascending=False).tail(10)"
   ]
  },
  {
   "cell_type": "code",
   "execution_count": 107,
   "id": "6db25d18",
   "metadata": {},
   "outputs": [
    {
     "data": {
      "text/html": [
       "<div>\n",
       "<style scoped>\n",
       "    .dataframe tbody tr th:only-of-type {\n",
       "        vertical-align: middle;\n",
       "    }\n",
       "\n",
       "    .dataframe tbody tr th {\n",
       "        vertical-align: top;\n",
       "    }\n",
       "\n",
       "    .dataframe thead th {\n",
       "        text-align: right;\n",
       "    }\n",
       "</style>\n",
       "<table border=\"1\" class=\"dataframe\">\n",
       "  <thead>\n",
       "    <tr style=\"text-align: right;\">\n",
       "      <th></th>\n",
       "      <th>coefficient</th>\n",
       "    </tr>\n",
       "  </thead>\n",
       "  <tbody>\n",
       "    <tr>\n",
       "      <th>said what</th>\n",
       "      <td>1.566929</td>\n",
       "    </tr>\n",
       "    <tr>\n",
       "      <th>nation</th>\n",
       "      <td>1.549186</td>\n",
       "    </tr>\n",
       "    <tr>\n",
       "      <th>way</th>\n",
       "      <td>1.547807</td>\n",
       "    </tr>\n",
       "    <tr>\n",
       "      <th>announces</th>\n",
       "      <td>1.432677</td>\n",
       "    </tr>\n",
       "    <tr>\n",
       "      <th>shit</th>\n",
       "      <td>1.380316</td>\n",
       "    </tr>\n",
       "    <tr>\n",
       "      <th>all</th>\n",
       "      <td>1.370246</td>\n",
       "    </tr>\n",
       "    <tr>\n",
       "      <th>congress</th>\n",
       "      <td>1.303354</td>\n",
       "    </tr>\n",
       "    <tr>\n",
       "      <th>fucking</th>\n",
       "      <td>1.278267</td>\n",
       "    </tr>\n",
       "    <tr>\n",
       "      <th>self</th>\n",
       "      <td>1.227514</td>\n",
       "    </tr>\n",
       "    <tr>\n",
       "      <th>this</th>\n",
       "      <td>1.218810</td>\n",
       "    </tr>\n",
       "    <tr>\n",
       "      <th>say he</th>\n",
       "      <td>-1.240334</td>\n",
       "    </tr>\n",
       "    <tr>\n",
       "      <th>this is</th>\n",
       "      <td>-1.248961</td>\n",
       "    </tr>\n",
       "    <tr>\n",
       "      <th>accused</th>\n",
       "      <td>-1.261092</td>\n",
       "    </tr>\n",
       "    <tr>\n",
       "      <th>florida</th>\n",
       "      <td>-1.262506</td>\n",
       "    </tr>\n",
       "    <tr>\n",
       "      <th>snake</th>\n",
       "      <td>-1.284463</td>\n",
       "    </tr>\n",
       "    <tr>\n",
       "      <th>chicken</th>\n",
       "      <td>-1.286658</td>\n",
       "    </tr>\n",
       "    <tr>\n",
       "      <th>uk</th>\n",
       "      <td>-1.315480</td>\n",
       "    </tr>\n",
       "    <tr>\n",
       "      <th>are</th>\n",
       "      <td>-1.324158</td>\n",
       "    </tr>\n",
       "    <tr>\n",
       "      <th>toilet</th>\n",
       "      <td>-1.358766</td>\n",
       "    </tr>\n",
       "    <tr>\n",
       "      <th>police</th>\n",
       "      <td>-1.405872</td>\n",
       "    </tr>\n",
       "  </tbody>\n",
       "</table>\n",
       "</div>"
      ],
      "text/plain": [
       "           coefficient\n",
       "said what     1.566929\n",
       "nation        1.549186\n",
       "way           1.547807\n",
       "announces     1.432677\n",
       "shit          1.380316\n",
       "all           1.370246\n",
       "congress      1.303354\n",
       "fucking       1.278267\n",
       "self          1.227514\n",
       "this          1.218810\n",
       "say he       -1.240334\n",
       "this is      -1.248961\n",
       "accused      -1.261092\n",
       "florida      -1.262506\n",
       "snake        -1.284463\n",
       "chicken      -1.286658\n",
       "uk           -1.315480\n",
       "are          -1.324158\n",
       "toilet       -1.358766\n",
       "police       -1.405872"
      ]
     },
     "execution_count": 107,
     "metadata": {},
     "output_type": "execute_result"
    }
   ],
   "source": [
    "top_coef_df = pd.concat([log_coef_df.sort_values(by='coefficient', ascending=False).head(10),\n",
    "                           log_coef_df.sort_values(by='coefficient', ascending=False).tail(10)],\n",
    "                       axis=0)\n",
    "top_coef_df"
   ]
  },
  {
   "cell_type": "code",
   "execution_count": 108,
   "id": "601e1ed0",
   "metadata": {},
   "outputs": [
    {
     "data": {
      "image/png": "[encoded data removed]",
      "text/plain": [
       "<Figure size 720x504 with 1 Axes>"
      ]
     },
     "metadata": {
      "needs_background": "light"
     },
     "output_type": "display_data"
    }
   ],
   "source": [
    "# plotting most significant coefs\n",
    "plt.figure(figsize=(10, 7))\n",
    "sns.barplot(data=top_coef_df,\n",
    "            x=\"coefficient\",\n",
    "            y=top_coef_df.index,\n",
    "            palette=\"seismic\")\n",
    "plt.title(\"Top Words/ngrams for Determining TheOnion Post\", size=15)\n",
    "plt.yticks(size=10)\n",
    "plt.xticks(size=10)\n",
    "plt.ylabel(\"Words/ngrams\", size=16)\n",
    "plt.xlabel(\"Model Coefficient\\nLog(Odds Ratio) of Being from TheOnion\", size=15);"
   ]
  },
  {
   "cell_type": "markdown",
   "id": "876e414b",
   "metadata": {},
   "source": [
    "#### Strong predictors of TheOnion (Fake News)\n",
    "From the graph, we can see that key words like 'nation', 'announces', 'shit' , 'congress' and 'fucking' are strong indicators that a headline is from TheOnion, our fake news dataset.<br>\n",
    "These words are not stopwords, and provide a clearer picture on the anatomy of TheOnion, ie fake news headline:\n",
    "- Profanities such as 'shit' and 'fucking' are indicators that the news is fake, as creators of fake news have lesser restrictions on the language used in their headlines. To draw sentiment and capture the attention of the reader, such profanities may be used.\n",
    "- The word 'announces' and 'congress' very likely go hand in hand in many fake news articles, as whenever 'congress or governments announces something', it will catch the attention of the reader. Fake news creators likely know this, and thus use it to their advantage.\n",
    "- The word 'nation' also is a strong predictor. Anything that affects the 'nation' is bound to draw attention, and thus fake news creators may use this word often.\n",
    "- An interesting one is the bigram 'said what'. These two words when used together with someone famous, conjures up feelings of controversy. For example 'Joe Biden Said What!' is a very eye catching headline that will garner more readership, and can be used by fake news creators. Such headlines are also a signature of tabloids, and thus will be rare in a real news headline.\n",
    "\n",
    "#### Weak predictors of TheOnion (Fake News)\n",
    "From the graph, we can see that key words like 'police', 'toilet', 'uk', 'chicken' , 'snake', 'florida' and 'accused' are weak indicators that a headline is from TheOnion, our fake news dataset.<br>\n",
    "- The word 'Police' is a weak indicator, possibly because there are numerous real news articles invloving the police on a daily basis, on a variety of cases. Fake news creators may have a hard time keeping up in creating false scenarios invloving the police, who may be invloved in extreme and sometimes ridiculous cases quite frequently!\n",
    "- The word 'uk' is a confusing one. It is likely to be the United Kingdom. Perhaps they are the most trustworthy country on earth? I am unable to draw any conclusions from this one.\n",
    "- The words 'toilet and 'Florida' are noteworthy. There are many sensational incidents that happen in these 2 very different locations. Florida for example, has a whole fanbase based off the infamous 'Florida Man'<sup>4</sup> and his exploits. Fake news creators may not be able to create news as sensational as news involving toilets or Florida.\n",
    "- The words 'snake' and 'chicken' are that of animals. If an animal ends up in the news, the scenario is probably sensational already, thus not as much value can be placed on a fake news article involving animals. Also, if the intention of fake news is to incite panic or cause harm, animals may not be the most efficient way to do so.\n",
    "- The word 'accused' and the law have many things in common. In daily news, there are many articles of various individuals being 'accused' of 'multitude' of offenses. Similar to the 'police', fake news creators may have a hard time keeping up with new accusations happening on a frequent basis."
   ]
  },
  {
   "cell_type": "markdown",
   "id": "40b5d80c",
   "metadata": {},
   "source": [
    "# Conclusions\n",
    "\n",
    "We set out to create a model that was discerning enough to separate fake news from real news as well as being simple to use, and also minimize false positives and false negatives.\n",
    "\n",
    "By choosing the Multinomial Naive Bayes(MNB) model as the recommended model, we are able to achieve good metrics, with a f1 score of **0.796419**, showing that this MNB model did in fact minimize the false positives and false negatives.<br>\n",
    "This was further backed up by the ROC curve of the MNB model showing a an AUC of **0.88**, which is close to the maximum possible AUC of **1**. This model thus fulfils the 'minimize false positives and false negatives' criteria.<br>\n",
    "Since the model is MNB, it is not very intepretableand thus is perfect for the general public, who just want to key in the news headline and get an answer whether it is likely to be fake news or not. It will also be easy to develop this model into an app, as the number of features required will be lesser.<br>\n",
    "One good use case would be - a working class adult can easily caution to his/her elderly parents about a particular news being potentially fake, because \"the government app said so\".\n",
    "\n",
    "However, should one require a model with greater intepretability, then Logistic Regression should be chosen. This model also performed well on our dataset, with metrics close to that of the MNB model.<br>\n",
    "Government bodies such as the police can use the intepretability of the model to educate members of the public on how to spot potential fake news.<br>\n",
    "For example, the public can be warned that news that sounds very tabliod-ish, or uses profanities have a higher chance of being fake. Another example would be that if a news source seemingly 'quotes' governments or people of influence such a CEO, memebers of the public can be advised to substantiate this information with news from reputable, official sources, such as The Straits Times."
   ]
  },
  {
   "cell_type": "markdown",
   "id": "79c6cea3",
   "metadata": {},
   "source": [
    "# Recommendations for Improvement\n",
    "\n",
    "Despite the chosen Multinomial Naive Bayes(MNB) performing well, it was still overfit nonetheless. The limitation here is that the models used were considered relatively more simple. More advanced techniques, such as using TENSORFLOW and BERT, could be used in the future to generate models with strong metrics, as well as reduced overfitting.\n",
    "\n",
    "BERT (Bidirectional Encoder Representations from Transformers) is a state of the art model developed by Google. As opposed to directional models, which read the text input sequentially (left-to-right or right-to-left), the Transformer encoder reads the entire sequence of words at once. Therefore it is considered bidirectional, though it would be more accurate to say that it’s non-directional. This characteristic allows the model to learn the context of a word based on all of its surroundings (left and right of the word).<sup>5</sup>\n",
    "\n",
    "Another limitation of the chosen MNB model is that it can only predict English headlines. In a multi-racial society such as Singapore, fake news can come in many languages. This can be especially dangerous to elderly folk, who mostly converse in their mother tongue. Further study and development of the model to accept other languages can be explored.\n",
    "\n",
    "Lastly, the datasets were pulled from sometime between end 2018 to end 2021, a 3 year time span. The hot topics may change over the course of 2022 and beyond, so this model needs to be constantly re-trained on the most updated news topics for it to stay relevant."
   ]
  },
  {
   "cell_type": "markdown",
   "id": "9496822d",
   "metadata": {},
   "source": [
    "# References\n",
    "1. https://www.analyticsvidhya.com/blog/2020/11/a-tour-of-evaluation-metrics-for-machine-learning/\n",
    "2. https://www.statology.org/what-is-a-good-auc-score/\n",
    "3. https://quantifyinghealth.com/interpret-logistic-regression-coefficients/\n",
    "4. https://www.reddit.com/r/FloridaMan/\n",
    "5. https://towardsdatascience.com/bert-explained-state-of-the-art-language-model-for-nlp-f8b21a9b6270"
   ]
  },
  {
   "cell_type": "code",
   "execution_count": null,
   "id": "c1eddb2f",
   "metadata": {},
   "outputs": [],
   "source": []
  }
 ],
 "metadata": {
  "kernelspec": {
   "display_name": "Python 3",
   "language": "python",
   "name": "python3"
  },
  "language_info": {
   "codemirror_mode": {
    "name": "ipython",
    "version": 3
   },
   "file_extension": ".py",
   "mimetype": "text/x-python",
   "name": "python",
   "nbconvert_exporter": "python",
   "pygments_lexer": "ipython3",
   "version": "3.8.8"
  }
 },
 "nbformat": 4,
 "nbformat_minor": 5
}
