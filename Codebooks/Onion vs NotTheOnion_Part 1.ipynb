{
 "cells": [
  {
   "cell_type": "markdown",
   "id": "ea810d02",
   "metadata": {},
   "source": [
    "# Part 1 - Problem Statement and Reddit Scraping"
   ]
  },
  {
   "cell_type": "markdown",
   "id": "56416829",
   "metadata": {},
   "source": [
    "## Introduction\n",
    "\n",
    "In this connected, globalised age, information is easily spread via numerous channels. One medium that has gained popularity as a news source in the past decade is social media. Social media platforms such as Facebook, Twitter, Instagram etc are now the preferred news source for numerous people across the globe. In the United States alone, social media has outpaced the traditional newspaper as a news source, with 20% of adults in the United States in 2018 said they get their news from social media \"often,\" compared to 16% who said they often get news from print newspapers.<sup>1</sup><br>\n",
    "\n",
    "### Fake News\n",
    "\n",
    "Unfortunately, such ease of access to news via social media has given rise to the prevelance of fake news. Fake news is simply false or misleading information presented as news.\n",
    "\n",
    "Fake news in it's most inoccent form can usually be brushed off as a prank. However, fake news is often used for more malicious purposes, such as creating political agendas, causing panic, and in recent years, generating anti-vaccine sentiment. One prominent case of fake news causing serious harm was when an elderly woman landed in intensive care for injecting ivermectin, as she was led to believe that vaccines were evil and useless against COVID, and that the ivermectin would protect her from the virus.<sup>2</sup>\n",
    "\n",
    "No matter how educated or knowledgeble one claims to be, there is no denying that some form of misinformation has infiltrated our daily lives at some point.\n",
    "People fall for fake news for two main reasons:\n",
    "1. It supports certain biasesness or viewpoints that an individual may already possess.\n",
    "2. Little to zero knowledge of the topic, causing them to take the fake news at face value.\n",
    "3. **It is worded and written like real news, with choice words used to provide an air of credibility to the fake news.**\n",
    "\n",
    "Of the 3 reasons stated above, the first and second one can be rectifed by proper education and guidance. It is the third reason that is a bit more tricky, as a cleverly written fake news piece can fool even the most discerning of individuals, not to mention the lowly educated or elderly.\n",
    "\n",
    "Hence, in this project, we will aim to develop a robust model that is discerning enough to weed out the fake news from real news using their individual texts.<br>\n",
    "\n",
    "But first, in order to build a model, we will first need data.\n",
    "\n",
    "### Reddit is a good source of data\n",
    "\n",
    "Reddit is an American social news aggregation, web content rating, and discussion website. It is a good source of data for the model as there is a vast amount of topics being discussed, in forums called 'subreddits'.\n",
    "\n",
    "All we have to do now is look for the appropriate subreddits for us to extract data for our datasets.\n",
    "\n",
    "### The Onion\n",
    "\n",
    "<img src=\"../Images/TheOnion.png\" width=\"150\" align=\"center\"/>\n",
    "\n",
    "The Onion is an American digital media company and newspaper organization that publishes satirical articles on vairous news topics. These articles are often references real world figures or events, but places the subjects in completely imaginary, and often ridiculous or hilarious scenarios.\n",
    "\n",
    "<img src=\"../Images/OnionHeadline.png\" width=\"400\" align=\"center\"/>\n",
    "\n",
    "Since The Onion often references real world figures or events in fake news articles, TheOnion subreddit https://www.reddit.com/r/TheOnion/ will serve as the source of our fake news dataset.\n",
    "\n",
    "We will now have to find a source of real news that is the opposite of The Onion.\n",
    "\n",
    "### Not The Onion\n",
    "\n",
    "<img src=\"../Images/NotTheOnion.png\" width=\"150\" align=\"center\"/>\n",
    "\n",
    "As it's name suggests, the subreddit called **nottheonion** is not The Onion. However, it contains *'true stories that are so mind-blowingly ridiculous that you could have sworn they were from The Onion'*.\n",
    "\n",
    "<img src=\"../Images/nottheonionheadline.png\" width=\"400\" align=\"center\"/>\n",
    "\n",
    "Since nottheonion subreddit https://www.reddit.com/r/nottheonion/ is real news of hilarious or ridiculous nature, it is the perfect subreddit of which we will extract our real news dataset.\n",
    "\n",
    "### The Classification Model\n",
    "\n",
    "As we are seperating the fake news from the real news, this will be **classification problem**. There are a variety of models we can use for such classification problems, such as Random Forest Classifier, Multinomial Naive Bayes, Logistics Regression etc.\n",
    "\n",
    "### How is sucess determined?\n",
    "\n",
    "Success will be determined by how well the model predicts whether news is fake or real. This can be easily determined by the proportion of false positives and false negatives. Low number of these false positives or negatives, ie 'minimizing', would indicate a more successful model.\n",
    "<br>\n",
    "<br>\n",
    "\n",
    "#### We can now craft our problem statement!"
   ]
  },
  {
   "cell_type": "markdown",
   "id": "d6d01a1b",
   "metadata": {},
   "source": [
    "## Problem Statement\n",
    "\n",
    "Fake news is a prevalent and harmful problem in our modern society, often misleading the general public on important topics such as healthcare and defense. This can lead to long standing societal issues which are a detriment to nations worldwide.<br>\n",
    "\n",
    "In view of this menace, our team aims to develop a classification model that is discerning enough to separate fake news from real news, based on the headline alone. This model must be simple to use, and also minimize false positives and false negatives, so that the users of this model, which include government bodies such as the police, and even regular citizens, can weed out the fake news easily, thus creating a secure, and more misinformation-resilient society."
   ]
  },
  {
   "cell_type": "markdown",
   "id": "5d4f0452",
   "metadata": {},
   "source": [
    "## Scraping the subreddits"
   ]
  },
  {
   "cell_type": "code",
   "execution_count": 81,
   "id": "5826165a",
   "metadata": {},
   "outputs": [],
   "source": [
    "# import libraries\n",
    "import requests\n",
    "import pandas as pd\n",
    "import seaborn as sns\n",
    "import matplotlib.pyplot as plt"
   ]
  },
  {
   "cell_type": "code",
   "execution_count": 2,
   "id": "ee37ee7c",
   "metadata": {},
   "outputs": [],
   "source": [
    "url_submission = 'https://api.pushshift.io/reddit/search/submission'"
   ]
  },
  {
   "cell_type": "code",
   "execution_count": 12,
   "id": "dc4e2287",
   "metadata": {},
   "outputs": [],
   "source": [
    "# define a reddit scrape function\n",
    "def reddit_scrape(url, subreddit, utc, number): # number is the number of posts to pull\n",
    "    params = {\n",
    "        'subreddit': subreddit,\n",
    "        'size': 100,\n",
    "        'before': utc\n",
    "    }\n",
    "    res = requests.get(url, params)\n",
    "    data = res.json()\n",
    "    posts = data['data']\n",
    "    df = pd.DataFrame(posts)\n",
    "    df.drop_duplicates(subset = ['title'], keep = 'last', inplace = True) # get rid of the pesky duplicates!\n",
    "    while len(df) <= number:\n",
    "        params_2 = {\n",
    "            'subreddit': subreddit,\n",
    "            'size': 100,\n",
    "            'before': df.created_utc.iloc[-1] # we would like the next 100 posts to be from before the latest post in the current dataframe\n",
    "        }\n",
    "        res_2 = requests.get(url, params_2)\n",
    "        data_2 = res_2.json()\n",
    "        posts_2 = data_2['data']\n",
    "        df = pd.concat([df, pd.DataFrame(posts_2)], axis=0) # combining the dataframes\n",
    "        df.drop_duplicates(subset = ['title'], keep = 'last', inplace = True) # get rid of the pesky duplicates!\n",
    "    df.reset_index(drop=True, inplace=True) # finally reset the index\n",
    "    return df"
   ]
  },
  {
   "cell_type": "markdown",
   "id": "03f0e389",
   "metadata": {},
   "source": [
    "Pick a date and time, where all other posts will be before this datetime:\n",
    "<br>\n",
    "**Chosen DateTime(GMT) = Saturday, 1 January 2022 00:00:00 GMT+08:00\n",
    "<br>\n",
    "UTC equivalent = 1640966400**\n",
    "\n",
    "Why is this UTC chosen? No other reason except that it is New Year's Day 2022!"
   ]
  },
  {
   "cell_type": "markdown",
   "id": "1294c77e",
   "metadata": {},
   "source": [
    "For the datasets, I target 5,000 from each dataset. To ensure that there are at **least 5,000 points** after cleaning the data, I will **scrape 5,300 from both TheOnion and nottheonion subreddits so as to create some 'buffer'**."
   ]
  },
  {
   "cell_type": "code",
   "execution_count": 4,
   "id": "b6227305",
   "metadata": {},
   "outputs": [
    {
     "name": "stdout",
     "output_type": "stream",
     "text": [
      "(5336, 83)\n"
     ]
    },
    {
     "data": {
      "text/html": [
       "<div>\n",
       "<style scoped>\n",
       "    .dataframe tbody tr th:only-of-type {\n",
       "        vertical-align: middle;\n",
       "    }\n",
       "\n",
       "    .dataframe tbody tr th {\n",
       "        vertical-align: top;\n",
       "    }\n",
       "\n",
       "    .dataframe thead th {\n",
       "        text-align: right;\n",
       "    }\n",
       "</style>\n",
       "<table border=\"1\" class=\"dataframe\">\n",
       "  <thead>\n",
       "    <tr style=\"text-align: right;\">\n",
       "      <th></th>\n",
       "      <th>all_awardings</th>\n",
       "      <th>allow_live_comments</th>\n",
       "      <th>author</th>\n",
       "      <th>author_flair_css_class</th>\n",
       "      <th>author_flair_richtext</th>\n",
       "      <th>author_flair_text</th>\n",
       "      <th>author_flair_type</th>\n",
       "      <th>author_fullname</th>\n",
       "      <th>author_is_blocked</th>\n",
       "      <th>author_patreon_flair</th>\n",
       "      <th>...</th>\n",
       "      <th>media_metadata</th>\n",
       "      <th>author_flair_background_color</th>\n",
       "      <th>author_flair_text_color</th>\n",
       "      <th>author_cakeday</th>\n",
       "      <th>steward_reports</th>\n",
       "      <th>removed_by</th>\n",
       "      <th>updated_utc</th>\n",
       "      <th>og_description</th>\n",
       "      <th>og_title</th>\n",
       "      <th>gilded</th>\n",
       "    </tr>\n",
       "  </thead>\n",
       "  <tbody>\n",
       "    <tr>\n",
       "      <th>0</th>\n",
       "      <td>[]</td>\n",
       "      <td>False</td>\n",
       "      <td>dwaxe</td>\n",
       "      <td>None</td>\n",
       "      <td>[]</td>\n",
       "      <td>None</td>\n",
       "      <td>text</td>\n",
       "      <td>t2_3jamc</td>\n",
       "      <td>False</td>\n",
       "      <td>False</td>\n",
       "      <td>...</td>\n",
       "      <td>NaN</td>\n",
       "      <td>NaN</td>\n",
       "      <td>NaN</td>\n",
       "      <td>NaN</td>\n",
       "      <td>NaN</td>\n",
       "      <td>NaN</td>\n",
       "      <td>NaN</td>\n",
       "      <td>NaN</td>\n",
       "      <td>NaN</td>\n",
       "      <td>NaN</td>\n",
       "    </tr>\n",
       "    <tr>\n",
       "      <th>1</th>\n",
       "      <td>[]</td>\n",
       "      <td>False</td>\n",
       "      <td>dwaxe</td>\n",
       "      <td>None</td>\n",
       "      <td>[]</td>\n",
       "      <td>None</td>\n",
       "      <td>text</td>\n",
       "      <td>t2_3jamc</td>\n",
       "      <td>False</td>\n",
       "      <td>False</td>\n",
       "      <td>...</td>\n",
       "      <td>NaN</td>\n",
       "      <td>NaN</td>\n",
       "      <td>NaN</td>\n",
       "      <td>NaN</td>\n",
       "      <td>NaN</td>\n",
       "      <td>NaN</td>\n",
       "      <td>NaN</td>\n",
       "      <td>NaN</td>\n",
       "      <td>NaN</td>\n",
       "      <td>NaN</td>\n",
       "    </tr>\n",
       "    <tr>\n",
       "      <th>2</th>\n",
       "      <td>[]</td>\n",
       "      <td>False</td>\n",
       "      <td>dwaxe</td>\n",
       "      <td>None</td>\n",
       "      <td>[]</td>\n",
       "      <td>None</td>\n",
       "      <td>text</td>\n",
       "      <td>t2_3jamc</td>\n",
       "      <td>False</td>\n",
       "      <td>False</td>\n",
       "      <td>...</td>\n",
       "      <td>NaN</td>\n",
       "      <td>NaN</td>\n",
       "      <td>NaN</td>\n",
       "      <td>NaN</td>\n",
       "      <td>NaN</td>\n",
       "      <td>NaN</td>\n",
       "      <td>NaN</td>\n",
       "      <td>NaN</td>\n",
       "      <td>NaN</td>\n",
       "      <td>NaN</td>\n",
       "    </tr>\n",
       "    <tr>\n",
       "      <th>3</th>\n",
       "      <td>[]</td>\n",
       "      <td>False</td>\n",
       "      <td>dwaxe</td>\n",
       "      <td>None</td>\n",
       "      <td>[]</td>\n",
       "      <td>None</td>\n",
       "      <td>text</td>\n",
       "      <td>t2_3jamc</td>\n",
       "      <td>False</td>\n",
       "      <td>False</td>\n",
       "      <td>...</td>\n",
       "      <td>NaN</td>\n",
       "      <td>NaN</td>\n",
       "      <td>NaN</td>\n",
       "      <td>NaN</td>\n",
       "      <td>NaN</td>\n",
       "      <td>NaN</td>\n",
       "      <td>NaN</td>\n",
       "      <td>NaN</td>\n",
       "      <td>NaN</td>\n",
       "      <td>NaN</td>\n",
       "    </tr>\n",
       "    <tr>\n",
       "      <th>4</th>\n",
       "      <td>[]</td>\n",
       "      <td>False</td>\n",
       "      <td>dwaxe</td>\n",
       "      <td>None</td>\n",
       "      <td>[]</td>\n",
       "      <td>None</td>\n",
       "      <td>text</td>\n",
       "      <td>t2_3jamc</td>\n",
       "      <td>False</td>\n",
       "      <td>False</td>\n",
       "      <td>...</td>\n",
       "      <td>NaN</td>\n",
       "      <td>NaN</td>\n",
       "      <td>NaN</td>\n",
       "      <td>NaN</td>\n",
       "      <td>NaN</td>\n",
       "      <td>NaN</td>\n",
       "      <td>NaN</td>\n",
       "      <td>NaN</td>\n",
       "      <td>NaN</td>\n",
       "      <td>NaN</td>\n",
       "    </tr>\n",
       "  </tbody>\n",
       "</table>\n",
       "<p>5 rows × 83 columns</p>\n",
       "</div>"
      ],
      "text/plain": [
       "  all_awardings allow_live_comments author author_flair_css_class  \\\n",
       "0            []               False  dwaxe                   None   \n",
       "1            []               False  dwaxe                   None   \n",
       "2            []               False  dwaxe                   None   \n",
       "3            []               False  dwaxe                   None   \n",
       "4            []               False  dwaxe                   None   \n",
       "\n",
       "  author_flair_richtext author_flair_text author_flair_type author_fullname  \\\n",
       "0                    []              None              text        t2_3jamc   \n",
       "1                    []              None              text        t2_3jamc   \n",
       "2                    []              None              text        t2_3jamc   \n",
       "3                    []              None              text        t2_3jamc   \n",
       "4                    []              None              text        t2_3jamc   \n",
       "\n",
       "  author_is_blocked author_patreon_flair  ... media_metadata  \\\n",
       "0             False                False  ...            NaN   \n",
       "1             False                False  ...            NaN   \n",
       "2             False                False  ...            NaN   \n",
       "3             False                False  ...            NaN   \n",
       "4             False                False  ...            NaN   \n",
       "\n",
       "  author_flair_background_color  author_flair_text_color  author_cakeday  \\\n",
       "0                           NaN                      NaN             NaN   \n",
       "1                           NaN                      NaN             NaN   \n",
       "2                           NaN                      NaN             NaN   \n",
       "3                           NaN                      NaN             NaN   \n",
       "4                           NaN                      NaN             NaN   \n",
       "\n",
       "   steward_reports removed_by updated_utc og_description og_title gilded  \n",
       "0              NaN        NaN         NaN            NaN      NaN    NaN  \n",
       "1              NaN        NaN         NaN            NaN      NaN    NaN  \n",
       "2              NaN        NaN         NaN            NaN      NaN    NaN  \n",
       "3              NaN        NaN         NaN            NaN      NaN    NaN  \n",
       "4              NaN        NaN         NaN            NaN      NaN    NaN  \n",
       "\n",
       "[5 rows x 83 columns]"
      ]
     },
     "execution_count": 4,
     "metadata": {},
     "output_type": "execute_result"
    }
   ],
   "source": [
    "# pull 5300 from the onion\n",
    "# UTC = 1640966400\n",
    "onion = reddit_scrape(url=url_submission, subreddit='TheOnion', utc=1640966400, number=5300)\n",
    "print(onion.shape)\n",
    "onion.head()"
   ]
  },
  {
   "cell_type": "code",
   "execution_count": 5,
   "id": "002512fa",
   "metadata": {},
   "outputs": [
    {
     "name": "stdout",
     "output_type": "stream",
     "text": [
      "(5336, 83)\n"
     ]
    }
   ],
   "source": [
    "# double check for duplicates\n",
    "onion.drop_duplicates(subset = ['title'], keep = 'last', inplace = True)\n",
    "print(onion.shape)"
   ]
  },
  {
   "cell_type": "code",
   "execution_count": 7,
   "id": "e50eb353",
   "metadata": {},
   "outputs": [
    {
     "name": "stdout",
     "output_type": "stream",
     "text": [
      "(5336, 83)\n"
     ]
    }
   ],
   "source": [
    "# check for duplicates in onion dataset, just in case\n",
    "onion.drop_duplicates(subset = ['title'], keep = 'last', inplace = True)\n",
    "print(onion.shape)"
   ]
  },
  {
   "cell_type": "markdown",
   "id": "b66b1369",
   "metadata": {},
   "source": [
    "No duplicate titles are present in my onion dataset!"
   ]
  },
  {
   "cell_type": "code",
   "execution_count": 8,
   "id": "43ade230",
   "metadata": {},
   "outputs": [],
   "source": [
    "# save the onion dataset\n",
    "onion.to_csv('../datasets/onion_reddit.csv', index=False)"
   ]
  },
  {
   "cell_type": "code",
   "execution_count": 9,
   "id": "681d93ca",
   "metadata": {},
   "outputs": [
    {
     "name": "stdout",
     "output_type": "stream",
     "text": [
      "(5311, 77)\n"
     ]
    },
    {
     "data": {
      "text/html": [
       "<div>\n",
       "<style scoped>\n",
       "    .dataframe tbody tr th:only-of-type {\n",
       "        vertical-align: middle;\n",
       "    }\n",
       "\n",
       "    .dataframe tbody tr th {\n",
       "        vertical-align: top;\n",
       "    }\n",
       "\n",
       "    .dataframe thead th {\n",
       "        text-align: right;\n",
       "    }\n",
       "</style>\n",
       "<table border=\"1\" class=\"dataframe\">\n",
       "  <thead>\n",
       "    <tr style=\"text-align: right;\">\n",
       "      <th></th>\n",
       "      <th>all_awardings</th>\n",
       "      <th>allow_live_comments</th>\n",
       "      <th>author</th>\n",
       "      <th>author_flair_css_class</th>\n",
       "      <th>author_flair_richtext</th>\n",
       "      <th>author_flair_text</th>\n",
       "      <th>author_flair_type</th>\n",
       "      <th>author_fullname</th>\n",
       "      <th>author_is_blocked</th>\n",
       "      <th>author_patreon_flair</th>\n",
       "      <th>...</th>\n",
       "      <th>media</th>\n",
       "      <th>media_embed</th>\n",
       "      <th>secure_media</th>\n",
       "      <th>secure_media_embed</th>\n",
       "      <th>author_flair_background_color</th>\n",
       "      <th>author_flair_text_color</th>\n",
       "      <th>author_cakeday</th>\n",
       "      <th>link_flair_css_class</th>\n",
       "      <th>link_flair_text</th>\n",
       "      <th>link_flair_template_id</th>\n",
       "    </tr>\n",
       "  </thead>\n",
       "  <tbody>\n",
       "    <tr>\n",
       "      <th>0</th>\n",
       "      <td>[]</td>\n",
       "      <td>False</td>\n",
       "      <td>suchdogewow5</td>\n",
       "      <td>None</td>\n",
       "      <td>[]</td>\n",
       "      <td>None</td>\n",
       "      <td>text</td>\n",
       "      <td>t2_10bvyc</td>\n",
       "      <td>False</td>\n",
       "      <td>False</td>\n",
       "      <td>...</td>\n",
       "      <td>NaN</td>\n",
       "      <td>NaN</td>\n",
       "      <td>NaN</td>\n",
       "      <td>NaN</td>\n",
       "      <td>NaN</td>\n",
       "      <td>NaN</td>\n",
       "      <td>NaN</td>\n",
       "      <td>NaN</td>\n",
       "      <td>NaN</td>\n",
       "      <td>NaN</td>\n",
       "    </tr>\n",
       "    <tr>\n",
       "      <th>1</th>\n",
       "      <td>[]</td>\n",
       "      <td>False</td>\n",
       "      <td>merepsull</td>\n",
       "      <td>None</td>\n",
       "      <td>[]</td>\n",
       "      <td>None</td>\n",
       "      <td>text</td>\n",
       "      <td>t2_36x70urt</td>\n",
       "      <td>False</td>\n",
       "      <td>False</td>\n",
       "      <td>...</td>\n",
       "      <td>NaN</td>\n",
       "      <td>NaN</td>\n",
       "      <td>NaN</td>\n",
       "      <td>NaN</td>\n",
       "      <td>NaN</td>\n",
       "      <td>NaN</td>\n",
       "      <td>NaN</td>\n",
       "      <td>NaN</td>\n",
       "      <td>NaN</td>\n",
       "      <td>NaN</td>\n",
       "    </tr>\n",
       "    <tr>\n",
       "      <th>2</th>\n",
       "      <td>[]</td>\n",
       "      <td>False</td>\n",
       "      <td>DaveInLondon89</td>\n",
       "      <td>None</td>\n",
       "      <td>[]</td>\n",
       "      <td>None</td>\n",
       "      <td>text</td>\n",
       "      <td>t2_8dudsu19</td>\n",
       "      <td>False</td>\n",
       "      <td>False</td>\n",
       "      <td>...</td>\n",
       "      <td>NaN</td>\n",
       "      <td>NaN</td>\n",
       "      <td>NaN</td>\n",
       "      <td>NaN</td>\n",
       "      <td>NaN</td>\n",
       "      <td>NaN</td>\n",
       "      <td>NaN</td>\n",
       "      <td>NaN</td>\n",
       "      <td>NaN</td>\n",
       "      <td>NaN</td>\n",
       "    </tr>\n",
       "    <tr>\n",
       "      <th>3</th>\n",
       "      <td>[]</td>\n",
       "      <td>False</td>\n",
       "      <td>av1987</td>\n",
       "      <td>None</td>\n",
       "      <td>[]</td>\n",
       "      <td>None</td>\n",
       "      <td>text</td>\n",
       "      <td>t2_1797ih</td>\n",
       "      <td>False</td>\n",
       "      <td>False</td>\n",
       "      <td>...</td>\n",
       "      <td>{'oembed': {'author_name': 'Mohammad Ghazali',...</td>\n",
       "      <td>{'content': '&amp;lt;blockquote class=\"twitter-vid...</td>\n",
       "      <td>{'oembed': {'author_name': 'Mohammad Ghazali',...</td>\n",
       "      <td>{'content': '&amp;lt;blockquote class=\"twitter-vid...</td>\n",
       "      <td>NaN</td>\n",
       "      <td>NaN</td>\n",
       "      <td>NaN</td>\n",
       "      <td>NaN</td>\n",
       "      <td>NaN</td>\n",
       "      <td>NaN</td>\n",
       "    </tr>\n",
       "    <tr>\n",
       "      <th>4</th>\n",
       "      <td>[]</td>\n",
       "      <td>False</td>\n",
       "      <td>Acrzyguy</td>\n",
       "      <td>None</td>\n",
       "      <td>[]</td>\n",
       "      <td>None</td>\n",
       "      <td>text</td>\n",
       "      <td>t2_24t4nd3s</td>\n",
       "      <td>False</td>\n",
       "      <td>False</td>\n",
       "      <td>...</td>\n",
       "      <td>NaN</td>\n",
       "      <td>NaN</td>\n",
       "      <td>NaN</td>\n",
       "      <td>NaN</td>\n",
       "      <td>NaN</td>\n",
       "      <td>NaN</td>\n",
       "      <td>NaN</td>\n",
       "      <td>NaN</td>\n",
       "      <td>NaN</td>\n",
       "      <td>NaN</td>\n",
       "    </tr>\n",
       "  </tbody>\n",
       "</table>\n",
       "<p>5 rows × 77 columns</p>\n",
       "</div>"
      ],
      "text/plain": [
       "  all_awardings  allow_live_comments          author author_flair_css_class  \\\n",
       "0            []                False    suchdogewow5                   None   \n",
       "1            []                False       merepsull                   None   \n",
       "2            []                False  DaveInLondon89                   None   \n",
       "3            []                False          av1987                   None   \n",
       "4            []                False        Acrzyguy                   None   \n",
       "\n",
       "  author_flair_richtext author_flair_text author_flair_type author_fullname  \\\n",
       "0                    []              None              text       t2_10bvyc   \n",
       "1                    []              None              text     t2_36x70urt   \n",
       "2                    []              None              text     t2_8dudsu19   \n",
       "3                    []              None              text       t2_1797ih   \n",
       "4                    []              None              text     t2_24t4nd3s   \n",
       "\n",
       "   author_is_blocked author_patreon_flair  ...  \\\n",
       "0              False                False  ...   \n",
       "1              False                False  ...   \n",
       "2              False                False  ...   \n",
       "3              False                False  ...   \n",
       "4              False                False  ...   \n",
       "\n",
       "                                               media  \\\n",
       "0                                                NaN   \n",
       "1                                                NaN   \n",
       "2                                                NaN   \n",
       "3  {'oembed': {'author_name': 'Mohammad Ghazali',...   \n",
       "4                                                NaN   \n",
       "\n",
       "                                         media_embed  \\\n",
       "0                                                NaN   \n",
       "1                                                NaN   \n",
       "2                                                NaN   \n",
       "3  {'content': '&lt;blockquote class=\"twitter-vid...   \n",
       "4                                                NaN   \n",
       "\n",
       "                                        secure_media  \\\n",
       "0                                                NaN   \n",
       "1                                                NaN   \n",
       "2                                                NaN   \n",
       "3  {'oembed': {'author_name': 'Mohammad Ghazali',...   \n",
       "4                                                NaN   \n",
       "\n",
       "                                  secure_media_embed  \\\n",
       "0                                                NaN   \n",
       "1                                                NaN   \n",
       "2                                                NaN   \n",
       "3  {'content': '&lt;blockquote class=\"twitter-vid...   \n",
       "4                                                NaN   \n",
       "\n",
       "   author_flair_background_color author_flair_text_color author_cakeday  \\\n",
       "0                            NaN                     NaN            NaN   \n",
       "1                            NaN                     NaN            NaN   \n",
       "2                            NaN                     NaN            NaN   \n",
       "3                            NaN                     NaN            NaN   \n",
       "4                            NaN                     NaN            NaN   \n",
       "\n",
       "  link_flair_css_class link_flair_text  link_flair_template_id  \n",
       "0                  NaN             NaN                     NaN  \n",
       "1                  NaN             NaN                     NaN  \n",
       "2                  NaN             NaN                     NaN  \n",
       "3                  NaN             NaN                     NaN  \n",
       "4                  NaN             NaN                     NaN  \n",
       "\n",
       "[5 rows x 77 columns]"
      ]
     },
     "execution_count": 9,
     "metadata": {},
     "output_type": "execute_result"
    }
   ],
   "source": [
    "# pull 5300 from nottheonion\n",
    "# UTC = 1640966400\n",
    "not_onion = reddit_scrape(url=url_submission, subreddit='nottheonion', utc=1640966400, number=5300)\n",
    "print(not_onion.shape)\n",
    "not_onion.head()"
   ]
  },
  {
   "cell_type": "code",
   "execution_count": 10,
   "id": "aea53287",
   "metadata": {},
   "outputs": [
    {
     "name": "stdout",
     "output_type": "stream",
     "text": [
      "(5311, 77)\n"
     ]
    }
   ],
   "source": [
    "# check for duplicates in not_onion dataset, just in case\n",
    "not_onion.drop_duplicates(subset = ['title'], keep = 'last', inplace = True)\n",
    "print(not_onion.shape)"
   ]
  },
  {
   "cell_type": "markdown",
   "id": "514c03a8",
   "metadata": {},
   "source": [
    "No duplicate titles are present in my not_onion dataset!"
   ]
  },
  {
   "cell_type": "code",
   "execution_count": 11,
   "id": "7d316070",
   "metadata": {},
   "outputs": [],
   "source": [
    "# save not_onion dataset\n",
    "not_onion.to_csv('../datasets/not_onion_reddit.csv', index=False)"
   ]
  },
  {
   "cell_type": "markdown",
   "id": "632b2842",
   "metadata": {},
   "source": [
    "## What are the earliest dates (created_utc) for both datasets?"
   ]
  },
  {
   "cell_type": "code",
   "execution_count": 108,
   "id": "a5a23db8",
   "metadata": {},
   "outputs": [
    {
     "data": {
      "text/plain": [
       "5335    1543606167\n",
       "Name: created_utc, dtype: int64"
      ]
     },
     "execution_count": 108,
     "metadata": {},
     "output_type": "execute_result"
    }
   ],
   "source": [
    "onion.created_utc.sort_values(ascending=True).head(1)"
   ]
  },
  {
   "cell_type": "markdown",
   "id": "9104eb71",
   "metadata": {},
   "source": [
    "For TheOnion, the earliest date is UTC is 1543606167, which is Saturday, 1 December 2018 03:29:27 GMT+08:00."
   ]
  },
  {
   "cell_type": "code",
   "execution_count": 109,
   "id": "9138ce10",
   "metadata": {},
   "outputs": [
    {
     "data": {
      "text/plain": [
       "5310    1637072262\n",
       "Name: created_utc, dtype: int64"
      ]
     },
     "execution_count": 109,
     "metadata": {},
     "output_type": "execute_result"
    }
   ],
   "source": [
    "not_onion.created_utc.sort_values(ascending=True).head(1)"
   ]
  },
  {
   "cell_type": "markdown",
   "id": "8c027c1a",
   "metadata": {},
   "source": [
    "For nottheonion, the earliest date is UTC, which is Tuesday, 16 November 2021 22:17:42 GMT+08:00.<br>\n",
    "The earliest date for nottheonion dataset is nearly 3 years apart from TheOnion dataset!\n",
    "\n",
    "A visual representation of the UTCs:"
   ]
  },
  {
   "cell_type": "code",
   "execution_count": 114,
   "id": "816cf1c3",
   "metadata": {},
   "outputs": [
    {
     "data": {
      "image/png": "[encoded data removed]",
      "text/plain": [
       "<Figure size 576x432 with 1 Axes>"
      ]
     },
     "metadata": {
      "needs_background": "light"
     },
     "output_type": "display_data"
    }
   ],
   "source": [
    "plt.figure(figsize=(8, 6))\n",
    "plt.title('Created UTCs for TheOnion vs nottheonion')\n",
    "sns.boxplot(data=pd.concat([onion, not_onion],axis=0), y='subreddit', x='created_utc', palette='Reds');"
   ]
  },
  {
   "cell_type": "markdown",
   "id": "6115fa17",
   "metadata": {},
   "source": [
    "The range of data for nottheonion is only from a very small span of time, while that of TheOnion spans a significantly longer period of time. This shows that there is a greater number of posts for nottheonion.<br>\n",
    "This is not good, as the hot topics for news can change very quickly, and thus our dataset is not a fair comparison of real news and their fake news counterparts.\n",
    "\n",
    "We will need a better way to scrape data from the nottheonion dataset."
   ]
  },
  {
   "cell_type": "code",
   "execution_count": 89,
   "id": "2671ba21",
   "metadata": {},
   "outputs": [],
   "source": [
    "import random # to generate random integer in the function below"
   ]
  },
  {
   "cell_type": "code",
   "execution_count": 103,
   "id": "3a310b26",
   "metadata": {},
   "outputs": [],
   "source": [
    "# define a new reddit scrape function\n",
    "def reddit_scrape_2(url, subreddit, utc_start, utc_end, number, save_to): # number is the number of posts to pull\n",
    "    params = {\n",
    "        'subreddit': subreddit,\n",
    "        'size': 1, # get the first post\n",
    "        'before': utc_end\n",
    "    }\n",
    "    res = requests.get(url, params)\n",
    "    data = res.json()\n",
    "    posts = data['data']\n",
    "    df = pd.DataFrame(posts)\n",
    "    df.drop_duplicates(subset = ['title'], keep = 'last', inplace = True) # get rid of the pesky duplicates!\n",
    "    while len(df) <= (number-1):\n",
    "        params_2 = {\n",
    "            'subreddit': subreddit,\n",
    "            'size': 50, # scrape posts in blocks of 50\n",
    "            'before': random.randint(utc_start, utc_end) # randomly pick a utc between 2 UTCs\n",
    "        }\n",
    "        res_2 = requests.get(url, params_2)\n",
    "        data_2 = res_2.json()\n",
    "        posts_2 = data_2['data']\n",
    "        df = pd.concat([df, pd.DataFrame(posts_2)], axis=0) # combining the dataframes\n",
    "        df.drop_duplicates(subset = ['title'], keep = 'last', inplace = True) # get rid of the pesky duplicates!\n",
    "        df.to_csv(save_to)\n",
    "    df.reset_index(drop=True, inplace=True) # finally reset the index\n",
    "    return df"
   ]
  },
  {
   "cell_type": "markdown",
   "id": "cd5fb69d",
   "metadata": {},
   "source": [
    "We will scrape data from between:\n",
    "- 1640966400, Saturday, 1 January 2022 00:00:00 GMT+08:00, and\n",
    "- 1543606167, Saturday, 1 December 2018 03:29:27 GMT+08:00, which is the earliest recorded UTC for TheOion dataset."
   ]
  },
  {
   "cell_type": "code",
   "execution_count": 104,
   "id": "3c2029d9",
   "metadata": {
    "scrolled": false
   },
   "outputs": [
    {
     "name": "stdout",
     "output_type": "stream",
     "text": [
      "(5340, 82)\n"
     ]
    },
    {
     "data": {
      "text/html": [
       "<div>\n",
       "<style scoped>\n",
       "    .dataframe tbody tr th:only-of-type {\n",
       "        vertical-align: middle;\n",
       "    }\n",
       "\n",
       "    .dataframe tbody tr th {\n",
       "        vertical-align: top;\n",
       "    }\n",
       "\n",
       "    .dataframe thead th {\n",
       "        text-align: right;\n",
       "    }\n",
       "</style>\n",
       "<table border=\"1\" class=\"dataframe\">\n",
       "  <thead>\n",
       "    <tr style=\"text-align: right;\">\n",
       "      <th></th>\n",
       "      <th>all_awardings</th>\n",
       "      <th>allow_live_comments</th>\n",
       "      <th>author</th>\n",
       "      <th>author_flair_css_class</th>\n",
       "      <th>author_flair_richtext</th>\n",
       "      <th>author_flair_text</th>\n",
       "      <th>author_flair_type</th>\n",
       "      <th>author_fullname</th>\n",
       "      <th>author_is_blocked</th>\n",
       "      <th>author_patreon_flair</th>\n",
       "      <th>...</th>\n",
       "      <th>media_embed</th>\n",
       "      <th>secure_media</th>\n",
       "      <th>secure_media_embed</th>\n",
       "      <th>steward_reports</th>\n",
       "      <th>link_flair_css_class</th>\n",
       "      <th>link_flair_text</th>\n",
       "      <th>link_flair_template_id</th>\n",
       "      <th>og_description</th>\n",
       "      <th>og_title</th>\n",
       "      <th>removed_by</th>\n",
       "    </tr>\n",
       "  </thead>\n",
       "  <tbody>\n",
       "    <tr>\n",
       "      <th>0</th>\n",
       "      <td>[]</td>\n",
       "      <td>False</td>\n",
       "      <td>suchdogewow5</td>\n",
       "      <td>None</td>\n",
       "      <td>[]</td>\n",
       "      <td>None</td>\n",
       "      <td>text</td>\n",
       "      <td>t2_10bvyc</td>\n",
       "      <td>False</td>\n",
       "      <td>False</td>\n",
       "      <td>...</td>\n",
       "      <td>NaN</td>\n",
       "      <td>NaN</td>\n",
       "      <td>NaN</td>\n",
       "      <td>NaN</td>\n",
       "      <td>NaN</td>\n",
       "      <td>NaN</td>\n",
       "      <td>NaN</td>\n",
       "      <td>NaN</td>\n",
       "      <td>NaN</td>\n",
       "      <td>NaN</td>\n",
       "    </tr>\n",
       "    <tr>\n",
       "      <th>1</th>\n",
       "      <td>NaN</td>\n",
       "      <td>NaN</td>\n",
       "      <td>VonDrakken</td>\n",
       "      <td>None</td>\n",
       "      <td>[]</td>\n",
       "      <td>None</td>\n",
       "      <td>text</td>\n",
       "      <td>t2_74dkel</td>\n",
       "      <td>NaN</td>\n",
       "      <td>False</td>\n",
       "      <td>...</td>\n",
       "      <td>NaN</td>\n",
       "      <td>NaN</td>\n",
       "      <td>NaN</td>\n",
       "      <td>NaN</td>\n",
       "      <td>NaN</td>\n",
       "      <td>NaN</td>\n",
       "      <td>NaN</td>\n",
       "      <td>NaN</td>\n",
       "      <td>NaN</td>\n",
       "      <td>NaN</td>\n",
       "    </tr>\n",
       "    <tr>\n",
       "      <th>2</th>\n",
       "      <td>NaN</td>\n",
       "      <td>NaN</td>\n",
       "      <td>GuilhermeVillas</td>\n",
       "      <td>None</td>\n",
       "      <td>[]</td>\n",
       "      <td>None</td>\n",
       "      <td>text</td>\n",
       "      <td>t2_1g7phpq</td>\n",
       "      <td>NaN</td>\n",
       "      <td>False</td>\n",
       "      <td>...</td>\n",
       "      <td>NaN</td>\n",
       "      <td>NaN</td>\n",
       "      <td>NaN</td>\n",
       "      <td>NaN</td>\n",
       "      <td>NaN</td>\n",
       "      <td>NaN</td>\n",
       "      <td>NaN</td>\n",
       "      <td>NaN</td>\n",
       "      <td>NaN</td>\n",
       "      <td>NaN</td>\n",
       "    </tr>\n",
       "    <tr>\n",
       "      <th>3</th>\n",
       "      <td>NaN</td>\n",
       "      <td>NaN</td>\n",
       "      <td>Chubbbsss</td>\n",
       "      <td>None</td>\n",
       "      <td>[]</td>\n",
       "      <td>None</td>\n",
       "      <td>text</td>\n",
       "      <td>t2_jw4xf</td>\n",
       "      <td>NaN</td>\n",
       "      <td>False</td>\n",
       "      <td>...</td>\n",
       "      <td>NaN</td>\n",
       "      <td>NaN</td>\n",
       "      <td>NaN</td>\n",
       "      <td>NaN</td>\n",
       "      <td>NaN</td>\n",
       "      <td>NaN</td>\n",
       "      <td>NaN</td>\n",
       "      <td>NaN</td>\n",
       "      <td>NaN</td>\n",
       "      <td>NaN</td>\n",
       "    </tr>\n",
       "    <tr>\n",
       "      <th>4</th>\n",
       "      <td>NaN</td>\n",
       "      <td>NaN</td>\n",
       "      <td>racconslayer101</td>\n",
       "      <td>None</td>\n",
       "      <td>[]</td>\n",
       "      <td>None</td>\n",
       "      <td>text</td>\n",
       "      <td>t2_1485uo</td>\n",
       "      <td>NaN</td>\n",
       "      <td>False</td>\n",
       "      <td>...</td>\n",
       "      <td>NaN</td>\n",
       "      <td>NaN</td>\n",
       "      <td>NaN</td>\n",
       "      <td>NaN</td>\n",
       "      <td>NaN</td>\n",
       "      <td>NaN</td>\n",
       "      <td>NaN</td>\n",
       "      <td>NaN</td>\n",
       "      <td>NaN</td>\n",
       "      <td>NaN</td>\n",
       "    </tr>\n",
       "  </tbody>\n",
       "</table>\n",
       "<p>5 rows × 82 columns</p>\n",
       "</div>"
      ],
      "text/plain": [
       "  all_awardings allow_live_comments           author author_flair_css_class  \\\n",
       "0            []               False     suchdogewow5                   None   \n",
       "1           NaN                 NaN       VonDrakken                   None   \n",
       "2           NaN                 NaN  GuilhermeVillas                   None   \n",
       "3           NaN                 NaN        Chubbbsss                   None   \n",
       "4           NaN                 NaN  racconslayer101                   None   \n",
       "\n",
       "  author_flair_richtext author_flair_text author_flair_type author_fullname  \\\n",
       "0                    []              None              text       t2_10bvyc   \n",
       "1                    []              None              text       t2_74dkel   \n",
       "2                    []              None              text      t2_1g7phpq   \n",
       "3                    []              None              text        t2_jw4xf   \n",
       "4                    []              None              text       t2_1485uo   \n",
       "\n",
       "  author_is_blocked author_patreon_flair  ... media_embed secure_media  \\\n",
       "0             False                False  ...         NaN          NaN   \n",
       "1               NaN                False  ...         NaN          NaN   \n",
       "2               NaN                False  ...         NaN          NaN   \n",
       "3               NaN                False  ...         NaN          NaN   \n",
       "4               NaN                False  ...         NaN          NaN   \n",
       "\n",
       "   secure_media_embed  steward_reports  link_flair_css_class link_flair_text  \\\n",
       "0                 NaN              NaN                   NaN             NaN   \n",
       "1                 NaN              NaN                   NaN             NaN   \n",
       "2                 NaN              NaN                   NaN             NaN   \n",
       "3                 NaN              NaN                   NaN             NaN   \n",
       "4                 NaN              NaN                   NaN             NaN   \n",
       "\n",
       "  link_flair_template_id og_description og_title removed_by  \n",
       "0                    NaN            NaN      NaN        NaN  \n",
       "1                    NaN            NaN      NaN        NaN  \n",
       "2                    NaN            NaN      NaN        NaN  \n",
       "3                    NaN            NaN      NaN        NaN  \n",
       "4                    NaN            NaN      NaN        NaN  \n",
       "\n",
       "[5 rows x 82 columns]"
      ]
     },
     "execution_count": 104,
     "metadata": {},
     "output_type": "execute_result"
    }
   ],
   "source": [
    "not_onion_2 = reddit_scrape_2(url=url_submission, subreddit='nottheonion', utc_start=1543606167, \n",
    "                              utc_end=1640966400, number=5300, save_to='../Datasets/not_onion_2_reddit.csv')\n",
    "print(not_onion_2.shape)\n",
    "not_onion_2.head()"
   ]
  },
  {
   "cell_type": "code",
   "execution_count": 105,
   "id": "ba201d0f",
   "metadata": {},
   "outputs": [
    {
     "data": {
      "text/plain": [
       "(5340, 82)"
      ]
     },
     "execution_count": 105,
     "metadata": {},
     "output_type": "execute_result"
    }
   ],
   "source": [
    "not_onion_2.shape"
   ]
  },
  {
   "cell_type": "code",
   "execution_count": 115,
   "id": "ec69dfd0",
   "metadata": {},
   "outputs": [
    {
     "data": {
      "image/png": "[encoded data removed]",
      "text/plain": [
       "<Figure size 576x432 with 1 Axes>"
      ]
     },
     "metadata": {
      "needs_background": "light"
     },
     "output_type": "display_data"
    }
   ],
   "source": [
    "plt.figure(figsize=(8, 6))\n",
    "plt.title('UTCs after re-scraping nottheonion dataset')\n",
    "sns.boxplot(data=pd.concat([onion, not_onion_2], axis=0), y='subreddit', x='created_utc', palette='rainbow');"
   ]
  },
  {
   "cell_type": "markdown",
   "id": "fe888cc1",
   "metadata": {},
   "source": [
    "We can see that the UTC's are much more balanced now, meaning our dataset is a more fair representation of a fake news vs real news dataset.\n",
    "\n",
    "We are now ready to perform EDA in the next codebook!"
   ]
  },
  {
   "cell_type": "markdown",
   "id": "28fc6e20",
   "metadata": {},
   "source": [
    "# References\n",
    "1. https://www.pewresearch.org/fact-tank/2018/12/10/social-media-outpaces-print-newspapers-in-the-u-s-as-a-news-source/\n",
    "2. https://www.straitstimes.com/singapore/grandmother-hospitalised-after-taking-ivermectin-to-protect-herself-against-covid-19"
   ]
  },
  {
   "cell_type": "code",
   "execution_count": null,
   "id": "bc627b80",
   "metadata": {},
   "outputs": [],
   "source": []
  }
 ],
 "metadata": {
  "kernelspec": {
   "display_name": "Python 3",
   "language": "python",
   "name": "python3"
  },
  "language_info": {
   "codemirror_mode": {
    "name": "ipython",
    "version": 3
   },
   "file_extension": ".py",
   "mimetype": "text/x-python",
   "name": "python",
   "nbconvert_exporter": "python",
   "pygments_lexer": "ipython3",
   "version": "3.8.8"
  }
 },
 "nbformat": 4,
 "nbformat_minor": 5
}
